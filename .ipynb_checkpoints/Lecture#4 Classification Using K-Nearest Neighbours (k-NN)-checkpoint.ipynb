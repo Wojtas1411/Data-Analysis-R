{
 "cells": [
  {
   "cell_type": "code",
   "execution_count": 1,
   "metadata": {},
   "outputs": [
    {
     "data": {
      "image/png": "[encoded data removed]",
      "text/plain": [
       "plot without title"
      ]
     },
     "metadata": {},
     "output_type": "display_data"
    }
   ],
   "source": [
    "names <-c(\"apple\", \"bacon\", \"banana\", \"carrot\", \"celery\", \"cheese\")\n",
    "types <-c(\"fruit\", \"protein\", \"fruit\", \"vegetable\", \"vegetable\", \"protein\")\n",
    "sweetness <- c(10, 1, 10, 7, 3, 1)\n",
    "crunchiness <- c(9, 4, 1, 10, 10, 1)\n",
    "plot(x=sweetness, y=crunchiness, ylim=c(0,11), xlim=c(0,11))\n",
    "text(sweetness, crunchiness, labels=names, cex= 0.7, pos=3)\n",
    "text(sweetness, crunchiness, labels=types, cex= 0.7, pos=1)\n",
    "\n",
    "dataFrame = data.frame(\"Name\" = names,\n",
    "                       \"Sweetness\" = sweetness,\n",
    "                       \"Crunchiness\" = crunchiness,\n",
    "                       \"Type\" = types)"
   ]
  },
  {
   "cell_type": "code",
   "execution_count": 2,
   "metadata": {},
   "outputs": [
    {
     "data": {
      "text/html": [
       "2.23606797749979"
      ],
      "text/latex": [
       "2.23606797749979"
      ],
      "text/markdown": [
       "2.23606797749979"
      ],
      "text/plain": [
       "[1] 2.236068"
      ]
     },
     "metadata": {},
     "output_type": "display_data"
    },
    {
     "data": {
      "text/html": [
       "4.24264068711928"
      ],
      "text/latex": [
       "4.24264068711928"
      ],
      "text/markdown": [
       "4.24264068711928"
      ],
      "text/plain": [
       "[1] 4.242641"
      ]
     },
     "metadata": {},
     "output_type": "display_data"
    },
    {
     "data": {
      "text/html": [
       "3.60555127546399"
      ],
      "text/latex": [
       "3.60555127546399"
      ],
      "text/markdown": [
       "3.60555127546399"
      ],
      "text/plain": [
       "[1] 3.605551"
      ]
     },
     "metadata": {},
     "output_type": "display_data"
    },
    {
     "data": {
      "text/html": [
       "1.4142135623731"
      ],
      "text/latex": [
       "1.4142135623731"
      ],
      "text/markdown": [
       "1.4142135623731"
      ],
      "text/plain": [
       "[1] 1.414214"
      ]
     },
     "metadata": {},
     "output_type": "display_data"
    }
   ],
   "source": [
    "#hardocded points\n",
    "tomato <- c(6,4)\n",
    "grape <- c(8,5)\n",
    "bean <- c(3,7)\n",
    "nuts <- c(3,6)\n",
    "orange <- c(7,3)\n",
    "\n",
    "dist <- function(p, q){\n",
    "    x = (p[1]-q[1])^2\n",
    "    y = (p[2]-q[2])^2\n",
    "    return(sqrt(x+y))\n",
    "}\n",
    "\n",
    "dist(tomato, grape)\n",
    "dist(tomato, bean)\n",
    "dist(tomato, nuts)\n",
    "dist(tomato, orange)"
   ]
  },
  {
   "cell_type": "code",
   "execution_count": 3,
   "metadata": {},
   "outputs": [
    {
     "data": {
      "text/html": [
       "<table>\n",
       "<thead><tr><th scope=col>id</th><th scope=col>diagnosis</th><th scope=col>radius_mean</th><th scope=col>texture_mean</th><th scope=col>perimeter_mean</th><th scope=col>area_mean</th><th scope=col>smoothness_mean</th><th scope=col>compactness_mean</th><th scope=col>concavity_mean</th><th scope=col>points_mean</th><th scope=col>⋯</th><th scope=col>radius_worst</th><th scope=col>texture_worst</th><th scope=col>perimeter_worst</th><th scope=col>area_worst</th><th scope=col>smoothness_worst</th><th scope=col>compactness_worst</th><th scope=col>concavity_worst</th><th scope=col>points_worst</th><th scope=col>symmetry_worst</th><th scope=col>dimension_worst</th></tr></thead>\n",
       "<tbody>\n",
       "\t<tr><td>87139402</td><td>B       </td><td>12.32   </td><td>12.39   </td><td>78.85   </td><td>464.1   </td><td>0.10280 </td><td>0.06981 </td><td>0.03987 </td><td>0.03700 </td><td>⋯       </td><td>13.50   </td><td>15.64   </td><td> 86.97  </td><td>549.1   </td><td>0.1385  </td><td>0.1266  </td><td>0.12420 </td><td>0.09391 </td><td>0.2827  </td><td>0.06771 </td></tr>\n",
       "\t<tr><td> 8910251</td><td>B       </td><td>10.60   </td><td>18.95   </td><td>69.28   </td><td>346.4   </td><td>0.09688 </td><td>0.11470 </td><td>0.06387 </td><td>0.02642 </td><td>⋯       </td><td>11.88   </td><td>22.94   </td><td> 78.28  </td><td>424.8   </td><td>0.1213  </td><td>0.2515  </td><td>0.19160 </td><td>0.07926 </td><td>0.2940  </td><td>0.07587 </td></tr>\n",
       "\t<tr><td>  905520</td><td>B       </td><td>11.04   </td><td>16.83   </td><td>70.92   </td><td>373.2   </td><td>0.10770 </td><td>0.07804 </td><td>0.03046 </td><td>0.02480 </td><td>⋯       </td><td>12.41   </td><td>26.44   </td><td> 79.93  </td><td>471.4   </td><td>0.1369  </td><td>0.1482  </td><td>0.10670 </td><td>0.07431 </td><td>0.2998  </td><td>0.07881 </td></tr>\n",
       "\t<tr><td>  868871</td><td>B       </td><td>11.28   </td><td>13.39   </td><td>73.00   </td><td>384.8   </td><td>0.11640 </td><td>0.11360 </td><td>0.04635 </td><td>0.04796 </td><td>⋯       </td><td>11.92   </td><td>15.77   </td><td> 76.53  </td><td>434.0   </td><td>0.1367  </td><td>0.1822  </td><td>0.08669 </td><td>0.08611 </td><td>0.2102  </td><td>0.06784 </td></tr>\n",
       "\t<tr><td> 9012568</td><td>B       </td><td>15.19   </td><td>13.21   </td><td>97.65   </td><td>711.8   </td><td>0.07963 </td><td>0.06934 </td><td>0.03393 </td><td>0.02657 </td><td>⋯       </td><td>16.20   </td><td>15.73   </td><td>104.50  </td><td>819.1   </td><td>0.1126  </td><td>0.1737  </td><td>0.13620 </td><td>0.08178 </td><td>0.2487  </td><td>0.06766 </td></tr>\n",
       "\t<tr><td>  906539</td><td>B       </td><td>11.57   </td><td>19.04   </td><td>74.20   </td><td>409.7   </td><td>0.08546 </td><td>0.07722 </td><td>0.05485 </td><td>0.01428 </td><td>⋯       </td><td>13.07   </td><td>26.98   </td><td> 86.43  </td><td>520.5   </td><td>0.1249  </td><td>0.1937  </td><td>0.25600 </td><td>0.06664 </td><td>0.3035  </td><td>0.08284 </td></tr>\n",
       "</tbody>\n",
       "</table>\n"
      ],
      "text/latex": [
       "\\begin{tabular}{r|llllllllllllllllllllllllllllllll}\n",
       " id & diagnosis & radius\\_mean & texture\\_mean & perimeter\\_mean & area\\_mean & smoothness\\_mean & compactness\\_mean & concavity\\_mean & points\\_mean & ⋯ & radius\\_worst & texture\\_worst & perimeter\\_worst & area\\_worst & smoothness\\_worst & compactness\\_worst & concavity\\_worst & points\\_worst & symmetry\\_worst & dimension\\_worst\\\\\n",
       "\\hline\n",
       "\t 87139402 & B        & 12.32    & 12.39    & 78.85    & 464.1    & 0.10280  & 0.06981  & 0.03987  & 0.03700  & ⋯        & 13.50    & 15.64    &  86.97   & 549.1    & 0.1385   & 0.1266   & 0.12420  & 0.09391  & 0.2827   & 0.06771 \\\\\n",
       "\t  8910251 & B        & 10.60    & 18.95    & 69.28    & 346.4    & 0.09688  & 0.11470  & 0.06387  & 0.02642  & ⋯        & 11.88    & 22.94    &  78.28   & 424.8    & 0.1213   & 0.2515   & 0.19160  & 0.07926  & 0.2940   & 0.07587 \\\\\n",
       "\t   905520 & B        & 11.04    & 16.83    & 70.92    & 373.2    & 0.10770  & 0.07804  & 0.03046  & 0.02480  & ⋯        & 12.41    & 26.44    &  79.93   & 471.4    & 0.1369   & 0.1482   & 0.10670  & 0.07431  & 0.2998   & 0.07881 \\\\\n",
       "\t   868871 & B        & 11.28    & 13.39    & 73.00    & 384.8    & 0.11640  & 0.11360  & 0.04635  & 0.04796  & ⋯        & 11.92    & 15.77    &  76.53   & 434.0    & 0.1367   & 0.1822   & 0.08669  & 0.08611  & 0.2102   & 0.06784 \\\\\n",
       "\t  9012568 & B        & 15.19    & 13.21    & 97.65    & 711.8    & 0.07963  & 0.06934  & 0.03393  & 0.02657  & ⋯        & 16.20    & 15.73    & 104.50   & 819.1    & 0.1126   & 0.1737   & 0.13620  & 0.08178  & 0.2487   & 0.06766 \\\\\n",
       "\t   906539 & B        & 11.57    & 19.04    & 74.20    & 409.7    & 0.08546  & 0.07722  & 0.05485  & 0.01428  & ⋯        & 13.07    & 26.98    &  86.43   & 520.5    & 0.1249   & 0.1937   & 0.25600  & 0.06664  & 0.3035   & 0.08284 \\\\\n",
       "\\end{tabular}\n"
      ],
      "text/markdown": [
       "\n",
       "id | diagnosis | radius_mean | texture_mean | perimeter_mean | area_mean | smoothness_mean | compactness_mean | concavity_mean | points_mean | ⋯ | radius_worst | texture_worst | perimeter_worst | area_worst | smoothness_worst | compactness_worst | concavity_worst | points_worst | symmetry_worst | dimension_worst | \n",
       "|---|---|---|---|---|---|\n",
       "| 87139402 | B        | 12.32    | 12.39    | 78.85    | 464.1    | 0.10280  | 0.06981  | 0.03987  | 0.03700  | ⋯        | 13.50    | 15.64    |  86.97   | 549.1    | 0.1385   | 0.1266   | 0.12420  | 0.09391  | 0.2827   | 0.06771  | \n",
       "|  8910251 | B        | 10.60    | 18.95    | 69.28    | 346.4    | 0.09688  | 0.11470  | 0.06387  | 0.02642  | ⋯        | 11.88    | 22.94    |  78.28   | 424.8    | 0.1213   | 0.2515   | 0.19160  | 0.07926  | 0.2940   | 0.07587  | \n",
       "|   905520 | B        | 11.04    | 16.83    | 70.92    | 373.2    | 0.10770  | 0.07804  | 0.03046  | 0.02480  | ⋯        | 12.41    | 26.44    |  79.93   | 471.4    | 0.1369   | 0.1482   | 0.10670  | 0.07431  | 0.2998   | 0.07881  | \n",
       "|   868871 | B        | 11.28    | 13.39    | 73.00    | 384.8    | 0.11640  | 0.11360  | 0.04635  | 0.04796  | ⋯        | 11.92    | 15.77    |  76.53   | 434.0    | 0.1367   | 0.1822   | 0.08669  | 0.08611  | 0.2102   | 0.06784  | \n",
       "|  9012568 | B        | 15.19    | 13.21    | 97.65    | 711.8    | 0.07963  | 0.06934  | 0.03393  | 0.02657  | ⋯        | 16.20    | 15.73    | 104.50   | 819.1    | 0.1126   | 0.1737   | 0.13620  | 0.08178  | 0.2487   | 0.06766  | \n",
       "|   906539 | B        | 11.57    | 19.04    | 74.20    | 409.7    | 0.08546  | 0.07722  | 0.05485  | 0.01428  | ⋯        | 13.07    | 26.98    |  86.43   | 520.5    | 0.1249   | 0.1937   | 0.25600  | 0.06664  | 0.3035   | 0.08284  | \n",
       "\n",
       "\n"
      ],
      "text/plain": [
       "  id       diagnosis radius_mean texture_mean perimeter_mean area_mean\n",
       "1 87139402 B         12.32       12.39        78.85          464.1    \n",
       "2  8910251 B         10.60       18.95        69.28          346.4    \n",
       "3   905520 B         11.04       16.83        70.92          373.2    \n",
       "4   868871 B         11.28       13.39        73.00          384.8    \n",
       "5  9012568 B         15.19       13.21        97.65          711.8    \n",
       "6   906539 B         11.57       19.04        74.20          409.7    \n",
       "  smoothness_mean compactness_mean concavity_mean points_mean ⋯ radius_worst\n",
       "1 0.10280         0.06981          0.03987        0.03700     ⋯ 13.50       \n",
       "2 0.09688         0.11470          0.06387        0.02642     ⋯ 11.88       \n",
       "3 0.10770         0.07804          0.03046        0.02480     ⋯ 12.41       \n",
       "4 0.11640         0.11360          0.04635        0.04796     ⋯ 11.92       \n",
       "5 0.07963         0.06934          0.03393        0.02657     ⋯ 16.20       \n",
       "6 0.08546         0.07722          0.05485        0.01428     ⋯ 13.07       \n",
       "  texture_worst perimeter_worst area_worst smoothness_worst compactness_worst\n",
       "1 15.64          86.97          549.1      0.1385           0.1266           \n",
       "2 22.94          78.28          424.8      0.1213           0.2515           \n",
       "3 26.44          79.93          471.4      0.1369           0.1482           \n",
       "4 15.77          76.53          434.0      0.1367           0.1822           \n",
       "5 15.73         104.50          819.1      0.1126           0.1737           \n",
       "6 26.98          86.43          520.5      0.1249           0.1937           \n",
       "  concavity_worst points_worst symmetry_worst dimension_worst\n",
       "1 0.12420         0.09391      0.2827         0.06771        \n",
       "2 0.19160         0.07926      0.2940         0.07587        \n",
       "3 0.10670         0.07431      0.2998         0.07881        \n",
       "4 0.08669         0.08611      0.2102         0.06784        \n",
       "5 0.13620         0.08178      0.2487         0.06766        \n",
       "6 0.25600         0.06664      0.3035         0.08284        "
      ]
     },
     "metadata": {},
     "output_type": "display_data"
    }
   ],
   "source": [
    "data <- read.csv(file=\"./wdbc.csv\", header=TRUE, sep=\",\", dec=\".\", stringsAsFactors=FALSE)\n",
    "head(data)"
   ]
  },
  {
   "cell_type": "code",
   "execution_count": 4,
   "metadata": {},
   "outputs": [],
   "source": [
    "library(class)\n",
    "library(plyr)"
   ]
  },
  {
   "cell_type": "code",
   "execution_count": 5,
   "metadata": {},
   "outputs": [
    {
     "data": {
      "text/html": [
       "<table>\n",
       "<thead><tr><th scope=col>diagnosis</th><th scope=col>freq</th></tr></thead>\n",
       "<tbody>\n",
       "\t<tr><td>B  </td><td>357</td></tr>\n",
       "\t<tr><td>M  </td><td>212</td></tr>\n",
       "</tbody>\n",
       "</table>\n"
      ],
      "text/latex": [
       "\\begin{tabular}{r|ll}\n",
       " diagnosis & freq\\\\\n",
       "\\hline\n",
       "\t B   & 357\\\\\n",
       "\t M   & 212\\\\\n",
       "\\end{tabular}\n"
      ],
      "text/markdown": [
       "\n",
       "diagnosis | freq | \n",
       "|---|---|\n",
       "| B   | 357 | \n",
       "| M   | 212 | \n",
       "\n",
       "\n"
      ],
      "text/plain": [
       "  diagnosis freq\n",
       "1 B         357 \n",
       "2 M         212 "
      ]
     },
     "metadata": {},
     "output_type": "display_data"
    }
   ],
   "source": [
    "count(data, \"diagnosis\")"
   ]
  },
  {
   "cell_type": "code",
   "execution_count": 6,
   "metadata": {},
   "outputs": [
    {
     "data": {
      "text/html": [
       "<table>\n",
       "<thead><tr><th scope=col>diagnosis</th><th scope=col>radius_mean</th><th scope=col>texture_mean</th><th scope=col>perimeter_mean</th><th scope=col>area_mean</th><th scope=col>smoothness_mean</th><th scope=col>compactness_mean</th><th scope=col>concavity_mean</th><th scope=col>points_mean</th><th scope=col>symmetry_mean</th><th scope=col>⋯</th><th scope=col>radius_worst</th><th scope=col>texture_worst</th><th scope=col>perimeter_worst</th><th scope=col>area_worst</th><th scope=col>smoothness_worst</th><th scope=col>compactness_worst</th><th scope=col>concavity_worst</th><th scope=col>points_worst</th><th scope=col>symmetry_worst</th><th scope=col>dimension_worst</th></tr></thead>\n",
       "<tbody>\n",
       "\t<tr><td>B      </td><td>12.32  </td><td>12.39  </td><td>78.85  </td><td>464.1  </td><td>0.10280</td><td>0.06981</td><td>0.03987</td><td>0.03700</td><td>0.1959 </td><td>⋯      </td><td>13.50  </td><td>15.64  </td><td> 86.97 </td><td>549.1  </td><td>0.1385 </td><td>0.1266 </td><td>0.12420</td><td>0.09391</td><td>0.2827 </td><td>0.06771</td></tr>\n",
       "\t<tr><td>B      </td><td>10.60  </td><td>18.95  </td><td>69.28  </td><td>346.4  </td><td>0.09688</td><td>0.11470</td><td>0.06387</td><td>0.02642</td><td>0.1922 </td><td>⋯      </td><td>11.88  </td><td>22.94  </td><td> 78.28 </td><td>424.8  </td><td>0.1213 </td><td>0.2515 </td><td>0.19160</td><td>0.07926</td><td>0.2940 </td><td>0.07587</td></tr>\n",
       "\t<tr><td>B      </td><td>11.04  </td><td>16.83  </td><td>70.92  </td><td>373.2  </td><td>0.10770</td><td>0.07804</td><td>0.03046</td><td>0.02480</td><td>0.1714 </td><td>⋯      </td><td>12.41  </td><td>26.44  </td><td> 79.93 </td><td>471.4  </td><td>0.1369 </td><td>0.1482 </td><td>0.10670</td><td>0.07431</td><td>0.2998 </td><td>0.07881</td></tr>\n",
       "\t<tr><td>B      </td><td>11.28  </td><td>13.39  </td><td>73.00  </td><td>384.8  </td><td>0.11640</td><td>0.11360</td><td>0.04635</td><td>0.04796</td><td>0.1771 </td><td>⋯      </td><td>11.92  </td><td>15.77  </td><td> 76.53 </td><td>434.0  </td><td>0.1367 </td><td>0.1822 </td><td>0.08669</td><td>0.08611</td><td>0.2102 </td><td>0.06784</td></tr>\n",
       "\t<tr><td>B      </td><td>15.19  </td><td>13.21  </td><td>97.65  </td><td>711.8  </td><td>0.07963</td><td>0.06934</td><td>0.03393</td><td>0.02657</td><td>0.1721 </td><td>⋯      </td><td>16.20  </td><td>15.73  </td><td>104.50 </td><td>819.1  </td><td>0.1126 </td><td>0.1737 </td><td>0.13620</td><td>0.08178</td><td>0.2487 </td><td>0.06766</td></tr>\n",
       "\t<tr><td>B      </td><td>11.57  </td><td>19.04  </td><td>74.20  </td><td>409.7  </td><td>0.08546</td><td>0.07722</td><td>0.05485</td><td>0.01428</td><td>0.2031 </td><td>⋯      </td><td>13.07  </td><td>26.98  </td><td> 86.43 </td><td>520.5  </td><td>0.1249 </td><td>0.1937 </td><td>0.25600</td><td>0.06664</td><td>0.3035 </td><td>0.08284</td></tr>\n",
       "</tbody>\n",
       "</table>\n"
      ],
      "text/latex": [
       "\\begin{tabular}{r|lllllllllllllllllllllllllllllll}\n",
       " diagnosis & radius\\_mean & texture\\_mean & perimeter\\_mean & area\\_mean & smoothness\\_mean & compactness\\_mean & concavity\\_mean & points\\_mean & symmetry\\_mean & ⋯ & radius\\_worst & texture\\_worst & perimeter\\_worst & area\\_worst & smoothness\\_worst & compactness\\_worst & concavity\\_worst & points\\_worst & symmetry\\_worst & dimension\\_worst\\\\\n",
       "\\hline\n",
       "\t B       & 12.32   & 12.39   & 78.85   & 464.1   & 0.10280 & 0.06981 & 0.03987 & 0.03700 & 0.1959  & ⋯       & 13.50   & 15.64   &  86.97  & 549.1   & 0.1385  & 0.1266  & 0.12420 & 0.09391 & 0.2827  & 0.06771\\\\\n",
       "\t B       & 10.60   & 18.95   & 69.28   & 346.4   & 0.09688 & 0.11470 & 0.06387 & 0.02642 & 0.1922  & ⋯       & 11.88   & 22.94   &  78.28  & 424.8   & 0.1213  & 0.2515  & 0.19160 & 0.07926 & 0.2940  & 0.07587\\\\\n",
       "\t B       & 11.04   & 16.83   & 70.92   & 373.2   & 0.10770 & 0.07804 & 0.03046 & 0.02480 & 0.1714  & ⋯       & 12.41   & 26.44   &  79.93  & 471.4   & 0.1369  & 0.1482  & 0.10670 & 0.07431 & 0.2998  & 0.07881\\\\\n",
       "\t B       & 11.28   & 13.39   & 73.00   & 384.8   & 0.11640 & 0.11360 & 0.04635 & 0.04796 & 0.1771  & ⋯       & 11.92   & 15.77   &  76.53  & 434.0   & 0.1367  & 0.1822  & 0.08669 & 0.08611 & 0.2102  & 0.06784\\\\\n",
       "\t B       & 15.19   & 13.21   & 97.65   & 711.8   & 0.07963 & 0.06934 & 0.03393 & 0.02657 & 0.1721  & ⋯       & 16.20   & 15.73   & 104.50  & 819.1   & 0.1126  & 0.1737  & 0.13620 & 0.08178 & 0.2487  & 0.06766\\\\\n",
       "\t B       & 11.57   & 19.04   & 74.20   & 409.7   & 0.08546 & 0.07722 & 0.05485 & 0.01428 & 0.2031  & ⋯       & 13.07   & 26.98   &  86.43  & 520.5   & 0.1249  & 0.1937  & 0.25600 & 0.06664 & 0.3035  & 0.08284\\\\\n",
       "\\end{tabular}\n"
      ],
      "text/markdown": [
       "\n",
       "diagnosis | radius_mean | texture_mean | perimeter_mean | area_mean | smoothness_mean | compactness_mean | concavity_mean | points_mean | symmetry_mean | ⋯ | radius_worst | texture_worst | perimeter_worst | area_worst | smoothness_worst | compactness_worst | concavity_worst | points_worst | symmetry_worst | dimension_worst | \n",
       "|---|---|---|---|---|---|\n",
       "| B       | 12.32   | 12.39   | 78.85   | 464.1   | 0.10280 | 0.06981 | 0.03987 | 0.03700 | 0.1959  | ⋯       | 13.50   | 15.64   |  86.97  | 549.1   | 0.1385  | 0.1266  | 0.12420 | 0.09391 | 0.2827  | 0.06771 | \n",
       "| B       | 10.60   | 18.95   | 69.28   | 346.4   | 0.09688 | 0.11470 | 0.06387 | 0.02642 | 0.1922  | ⋯       | 11.88   | 22.94   |  78.28  | 424.8   | 0.1213  | 0.2515  | 0.19160 | 0.07926 | 0.2940  | 0.07587 | \n",
       "| B       | 11.04   | 16.83   | 70.92   | 373.2   | 0.10770 | 0.07804 | 0.03046 | 0.02480 | 0.1714  | ⋯       | 12.41   | 26.44   |  79.93  | 471.4   | 0.1369  | 0.1482  | 0.10670 | 0.07431 | 0.2998  | 0.07881 | \n",
       "| B       | 11.28   | 13.39   | 73.00   | 384.8   | 0.11640 | 0.11360 | 0.04635 | 0.04796 | 0.1771  | ⋯       | 11.92   | 15.77   |  76.53  | 434.0   | 0.1367  | 0.1822  | 0.08669 | 0.08611 | 0.2102  | 0.06784 | \n",
       "| B       | 15.19   | 13.21   | 97.65   | 711.8   | 0.07963 | 0.06934 | 0.03393 | 0.02657 | 0.1721  | ⋯       | 16.20   | 15.73   | 104.50  | 819.1   | 0.1126  | 0.1737  | 0.13620 | 0.08178 | 0.2487  | 0.06766 | \n",
       "| B       | 11.57   | 19.04   | 74.20   | 409.7   | 0.08546 | 0.07722 | 0.05485 | 0.01428 | 0.2031  | ⋯       | 13.07   | 26.98   |  86.43  | 520.5   | 0.1249  | 0.1937  | 0.25600 | 0.06664 | 0.3035  | 0.08284 | \n",
       "\n",
       "\n"
      ],
      "text/plain": [
       "  diagnosis radius_mean texture_mean perimeter_mean area_mean smoothness_mean\n",
       "1 B         12.32       12.39        78.85          464.1     0.10280        \n",
       "2 B         10.60       18.95        69.28          346.4     0.09688        \n",
       "3 B         11.04       16.83        70.92          373.2     0.10770        \n",
       "4 B         11.28       13.39        73.00          384.8     0.11640        \n",
       "5 B         15.19       13.21        97.65          711.8     0.07963        \n",
       "6 B         11.57       19.04        74.20          409.7     0.08546        \n",
       "  compactness_mean concavity_mean points_mean symmetry_mean ⋯ radius_worst\n",
       "1 0.06981          0.03987        0.03700     0.1959        ⋯ 13.50       \n",
       "2 0.11470          0.06387        0.02642     0.1922        ⋯ 11.88       \n",
       "3 0.07804          0.03046        0.02480     0.1714        ⋯ 12.41       \n",
       "4 0.11360          0.04635        0.04796     0.1771        ⋯ 11.92       \n",
       "5 0.06934          0.03393        0.02657     0.1721        ⋯ 16.20       \n",
       "6 0.07722          0.05485        0.01428     0.2031        ⋯ 13.07       \n",
       "  texture_worst perimeter_worst area_worst smoothness_worst compactness_worst\n",
       "1 15.64          86.97          549.1      0.1385           0.1266           \n",
       "2 22.94          78.28          424.8      0.1213           0.2515           \n",
       "3 26.44          79.93          471.4      0.1369           0.1482           \n",
       "4 15.77          76.53          434.0      0.1367           0.1822           \n",
       "5 15.73         104.50          819.1      0.1126           0.1737           \n",
       "6 26.98          86.43          520.5      0.1249           0.1937           \n",
       "  concavity_worst points_worst symmetry_worst dimension_worst\n",
       "1 0.12420         0.09391      0.2827         0.06771        \n",
       "2 0.19160         0.07926      0.2940         0.07587        \n",
       "3 0.10670         0.07431      0.2998         0.07881        \n",
       "4 0.08669         0.08611      0.2102         0.06784        \n",
       "5 0.13620         0.08178      0.2487         0.06766        \n",
       "6 0.25600         0.06664      0.3035         0.08284        "
      ]
     },
     "metadata": {},
     "output_type": "display_data"
    }
   ],
   "source": [
    "data <- subset(data, select=-id)\n",
    "#data = data[,-1]\n",
    "head(data)"
   ]
  },
  {
   "cell_type": "code",
   "execution_count": 7,
   "metadata": {},
   "outputs": [
    {
     "data": {
      "text/plain": [
       "   Min. 1st Qu.  Median    Mean 3rd Qu.    Max. \n",
       "  6.981  11.700  13.370  14.127  15.780  28.110 "
      ]
     },
     "metadata": {},
     "output_type": "display_data"
    },
    {
     "data": {
      "text/plain": [
       "   Min. 1st Qu.  Median    Mean 3rd Qu.    Max. \n",
       "0.05263 0.08637 0.09587 0.09636 0.10530 0.16340 "
      ]
     },
     "metadata": {},
     "output_type": "display_data"
    },
    {
     "data": {
      "text/plain": [
       "   Min. 1st Qu.  Median    Mean 3rd Qu.    Max. \n",
       "  143.5   420.3   551.1   654.9   782.7  2501.0 "
      ]
     },
     "metadata": {},
     "output_type": "display_data"
    }
   ],
   "source": [
    "summary(data$radius_mean)\n",
    "summary(data$smoothness_mean)\n",
    "summary(data$area_mean)"
   ]
  },
  {
   "cell_type": "code",
   "execution_count": 8,
   "metadata": {},
   "outputs": [
    {
     "data": {
      "text/html": [
       "<ol class=list-inline>\n",
       "\t<li>0</li>\n",
       "\t<li>0.25</li>\n",
       "\t<li>0.5</li>\n",
       "\t<li>0.75</li>\n",
       "\t<li>1</li>\n",
       "</ol>\n"
      ],
      "text/latex": [
       "\\begin{enumerate*}\n",
       "\\item 0\n",
       "\\item 0.25\n",
       "\\item 0.5\n",
       "\\item 0.75\n",
       "\\item 1\n",
       "\\end{enumerate*}\n"
      ],
      "text/markdown": [
       "1. 0\n",
       "2. 0.25\n",
       "3. 0.5\n",
       "4. 0.75\n",
       "5. 1\n",
       "\n",
       "\n"
      ],
      "text/plain": [
       "[1] 0.00 0.25 0.50 0.75 1.00"
      ]
     },
     "metadata": {},
     "output_type": "display_data"
    }
   ],
   "source": [
    "normalize <- function(dataset){\n",
    "    mini = min(dataset)\n",
    "    maxi = max(dataset)\n",
    "    dif = maxi-mini\n",
    "    return((dataset-mini)/dif)\n",
    "}\n",
    "#TEST\n",
    "normalize(c(1,2,3,4,5))"
   ]
  },
  {
   "cell_type": "code",
   "execution_count": 9,
   "metadata": {},
   "outputs": [],
   "source": [
    "# head(normalize(data[,-1]))\n",
    "# data_normalized <- data\n",
    "# data_normalized[,-1] = normalize(data[,-1])\n",
    "# head(data_normalized)"
   ]
  },
  {
   "cell_type": "code",
   "execution_count": 10,
   "metadata": {},
   "outputs": [
    {
     "data": {
      "text/html": [
       "<table>\n",
       "<thead><tr><th scope=col>diagnosis</th><th scope=col>radius_mean</th><th scope=col>texture_mean</th><th scope=col>perimeter_mean</th><th scope=col>area_mean</th><th scope=col>smoothness_mean</th><th scope=col>compactness_mean</th><th scope=col>concavity_mean</th><th scope=col>points_mean</th><th scope=col>symmetry_mean</th><th scope=col>⋯</th><th scope=col>radius_worst</th><th scope=col>texture_worst</th><th scope=col>perimeter_worst</th><th scope=col>area_worst</th><th scope=col>smoothness_worst</th><th scope=col>compactness_worst</th><th scope=col>concavity_worst</th><th scope=col>points_worst</th><th scope=col>symmetry_worst</th><th scope=col>dimension_worst</th></tr></thead>\n",
       "<tbody>\n",
       "\t<tr><td>B         </td><td>0.2526859 </td><td>0.0906324 </td><td>0.2422777 </td><td>0.13599152</td><td>0.4529205 </td><td>0.1546838 </td><td>0.09341612</td><td>0.18389662</td><td>0.4540404 </td><td>⋯         </td><td>0.1981501 </td><td>0.09648188</td><td>0.1820808 </td><td>0.08943669</td><td>0.4446279 </td><td>0.09635106</td><td>0.09920128</td><td>0.3227148 </td><td>0.2487680 </td><td>0.08310376</td></tr>\n",
       "\t<tr><td>B         </td><td>0.1712812 </td><td>0.3124789 </td><td>0.1761454 </td><td>0.08606575</td><td>0.3994764 </td><td>0.2923747 </td><td>0.14964855</td><td>0.13131213</td><td>0.4353535 </td><td>⋯         </td><td>0.1405194 </td><td>0.29104478</td><td>0.1388017 </td><td>0.05888714</td><td>0.3310440 </td><td>0.21752966</td><td>0.15303514</td><td>0.2723711 </td><td>0.2710428 </td><td>0.13662600</td></tr>\n",
       "\t<tr><td>B         </td><td>0.1921056 </td><td>0.2407846 </td><td>0.1874784 </td><td>0.09743372</td><td>0.4971563 </td><td>0.1799276 </td><td>0.07136832</td><td>0.12326044</td><td>0.3303030 </td><td>⋯         </td><td>0.1593739 </td><td>0.38432836</td><td>0.1470193 </td><td>0.07034015</td><td>0.4340619 </td><td>0.11730749</td><td>0.08522364</td><td>0.2553608 </td><td>0.2824759 </td><td>0.15590975</td></tr>\n",
       "\t<tr><td>B         </td><td>0.2034644 </td><td>0.1244505 </td><td>0.2018520 </td><td>0.10235419</td><td>0.5756974 </td><td>0.2890007 </td><td>0.10859888</td><td>0.23836978</td><td>0.3590909 </td><td>⋯         </td><td>0.1419424 </td><td>0.09994670</td><td>0.1300862 </td><td>0.06114825</td><td>0.4327412 </td><td>0.15029446</td><td>0.06924121</td><td>0.2959107 </td><td>0.1058545 </td><td>0.08395645</td></tr>\n",
       "\t<tr><td>B         </td><td>0.3885182 </td><td>0.1183632 </td><td>0.3721927 </td><td>0.24106045</td><td>0.2437483 </td><td>0.1532421 </td><td>0.07949859</td><td>0.13205765</td><td>0.3338384 </td><td>⋯         </td><td>0.2942014 </td><td>0.09888060</td><td>0.2693859 </td><td>0.15579532</td><td>0.2735918 </td><td>0.14204771</td><td>0.10878594</td><td>0.2810309 </td><td>0.1817465 </td><td>0.08277581</td></tr>\n",
       "\t<tr><td>B         </td><td>0.2171896 </td><td>0.3155225 </td><td>0.2101444 </td><td>0.11291622</td><td>0.2963799 </td><td>0.1774124 </td><td>0.12851453</td><td>0.07097416</td><td>0.4904040 </td><td>⋯         </td><td>0.1828531 </td><td>0.39872068</td><td>0.1793914 </td><td>0.08240759</td><td>0.3548174 </td><td>0.16145181</td><td>0.20447284</td><td>0.2290034 </td><td>0.2897694 </td><td>0.18234291</td></tr>\n",
       "</tbody>\n",
       "</table>\n"
      ],
      "text/latex": [
       "\\begin{tabular}{r|lllllllllllllllllllllllllllllll}\n",
       " diagnosis & radius\\_mean & texture\\_mean & perimeter\\_mean & area\\_mean & smoothness\\_mean & compactness\\_mean & concavity\\_mean & points\\_mean & symmetry\\_mean & ⋯ & radius\\_worst & texture\\_worst & perimeter\\_worst & area\\_worst & smoothness\\_worst & compactness\\_worst & concavity\\_worst & points\\_worst & symmetry\\_worst & dimension\\_worst\\\\\n",
       "\\hline\n",
       "\t B          & 0.2526859  & 0.0906324  & 0.2422777  & 0.13599152 & 0.4529205  & 0.1546838  & 0.09341612 & 0.18389662 & 0.4540404  & ⋯          & 0.1981501  & 0.09648188 & 0.1820808  & 0.08943669 & 0.4446279  & 0.09635106 & 0.09920128 & 0.3227148  & 0.2487680  & 0.08310376\\\\\n",
       "\t B          & 0.1712812  & 0.3124789  & 0.1761454  & 0.08606575 & 0.3994764  & 0.2923747  & 0.14964855 & 0.13131213 & 0.4353535  & ⋯          & 0.1405194  & 0.29104478 & 0.1388017  & 0.05888714 & 0.3310440  & 0.21752966 & 0.15303514 & 0.2723711  & 0.2710428  & 0.13662600\\\\\n",
       "\t B          & 0.1921056  & 0.2407846  & 0.1874784  & 0.09743372 & 0.4971563  & 0.1799276  & 0.07136832 & 0.12326044 & 0.3303030  & ⋯          & 0.1593739  & 0.38432836 & 0.1470193  & 0.07034015 & 0.4340619  & 0.11730749 & 0.08522364 & 0.2553608  & 0.2824759  & 0.15590975\\\\\n",
       "\t B          & 0.2034644  & 0.1244505  & 0.2018520  & 0.10235419 & 0.5756974  & 0.2890007  & 0.10859888 & 0.23836978 & 0.3590909  & ⋯          & 0.1419424  & 0.09994670 & 0.1300862  & 0.06114825 & 0.4327412  & 0.15029446 & 0.06924121 & 0.2959107  & 0.1058545  & 0.08395645\\\\\n",
       "\t B          & 0.3885182  & 0.1183632  & 0.3721927  & 0.24106045 & 0.2437483  & 0.1532421  & 0.07949859 & 0.13205765 & 0.3338384  & ⋯          & 0.2942014  & 0.09888060 & 0.2693859  & 0.15579532 & 0.2735918  & 0.14204771 & 0.10878594 & 0.2810309  & 0.1817465  & 0.08277581\\\\\n",
       "\t B          & 0.2171896  & 0.3155225  & 0.2101444  & 0.11291622 & 0.2963799  & 0.1774124  & 0.12851453 & 0.07097416 & 0.4904040  & ⋯          & 0.1828531  & 0.39872068 & 0.1793914  & 0.08240759 & 0.3548174  & 0.16145181 & 0.20447284 & 0.2290034  & 0.2897694  & 0.18234291\\\\\n",
       "\\end{tabular}\n"
      ],
      "text/markdown": [
       "\n",
       "diagnosis | radius_mean | texture_mean | perimeter_mean | area_mean | smoothness_mean | compactness_mean | concavity_mean | points_mean | symmetry_mean | ⋯ | radius_worst | texture_worst | perimeter_worst | area_worst | smoothness_worst | compactness_worst | concavity_worst | points_worst | symmetry_worst | dimension_worst | \n",
       "|---|---|---|---|---|---|\n",
       "| B          | 0.2526859  | 0.0906324  | 0.2422777  | 0.13599152 | 0.4529205  | 0.1546838  | 0.09341612 | 0.18389662 | 0.4540404  | ⋯          | 0.1981501  | 0.09648188 | 0.1820808  | 0.08943669 | 0.4446279  | 0.09635106 | 0.09920128 | 0.3227148  | 0.2487680  | 0.08310376 | \n",
       "| B          | 0.1712812  | 0.3124789  | 0.1761454  | 0.08606575 | 0.3994764  | 0.2923747  | 0.14964855 | 0.13131213 | 0.4353535  | ⋯          | 0.1405194  | 0.29104478 | 0.1388017  | 0.05888714 | 0.3310440  | 0.21752966 | 0.15303514 | 0.2723711  | 0.2710428  | 0.13662600 | \n",
       "| B          | 0.1921056  | 0.2407846  | 0.1874784  | 0.09743372 | 0.4971563  | 0.1799276  | 0.07136832 | 0.12326044 | 0.3303030  | ⋯          | 0.1593739  | 0.38432836 | 0.1470193  | 0.07034015 | 0.4340619  | 0.11730749 | 0.08522364 | 0.2553608  | 0.2824759  | 0.15590975 | \n",
       "| B          | 0.2034644  | 0.1244505  | 0.2018520  | 0.10235419 | 0.5756974  | 0.2890007  | 0.10859888 | 0.23836978 | 0.3590909  | ⋯          | 0.1419424  | 0.09994670 | 0.1300862  | 0.06114825 | 0.4327412  | 0.15029446 | 0.06924121 | 0.2959107  | 0.1058545  | 0.08395645 | \n",
       "| B          | 0.3885182  | 0.1183632  | 0.3721927  | 0.24106045 | 0.2437483  | 0.1532421  | 0.07949859 | 0.13205765 | 0.3338384  | ⋯          | 0.2942014  | 0.09888060 | 0.2693859  | 0.15579532 | 0.2735918  | 0.14204771 | 0.10878594 | 0.2810309  | 0.1817465  | 0.08277581 | \n",
       "| B          | 0.2171896  | 0.3155225  | 0.2101444  | 0.11291622 | 0.2963799  | 0.1774124  | 0.12851453 | 0.07097416 | 0.4904040  | ⋯          | 0.1828531  | 0.39872068 | 0.1793914  | 0.08240759 | 0.3548174  | 0.16145181 | 0.20447284 | 0.2290034  | 0.2897694  | 0.18234291 | \n",
       "\n",
       "\n"
      ],
      "text/plain": [
       "  diagnosis radius_mean texture_mean perimeter_mean area_mean  smoothness_mean\n",
       "1 B         0.2526859   0.0906324    0.2422777      0.13599152 0.4529205      \n",
       "2 B         0.1712812   0.3124789    0.1761454      0.08606575 0.3994764      \n",
       "3 B         0.1921056   0.2407846    0.1874784      0.09743372 0.4971563      \n",
       "4 B         0.2034644   0.1244505    0.2018520      0.10235419 0.5756974      \n",
       "5 B         0.3885182   0.1183632    0.3721927      0.24106045 0.2437483      \n",
       "6 B         0.2171896   0.3155225    0.2101444      0.11291622 0.2963799      \n",
       "  compactness_mean concavity_mean points_mean symmetry_mean ⋯ radius_worst\n",
       "1 0.1546838        0.09341612     0.18389662  0.4540404     ⋯ 0.1981501   \n",
       "2 0.2923747        0.14964855     0.13131213  0.4353535     ⋯ 0.1405194   \n",
       "3 0.1799276        0.07136832     0.12326044  0.3303030     ⋯ 0.1593739   \n",
       "4 0.2890007        0.10859888     0.23836978  0.3590909     ⋯ 0.1419424   \n",
       "5 0.1532421        0.07949859     0.13205765  0.3338384     ⋯ 0.2942014   \n",
       "6 0.1774124        0.12851453     0.07097416  0.4904040     ⋯ 0.1828531   \n",
       "  texture_worst perimeter_worst area_worst smoothness_worst compactness_worst\n",
       "1 0.09648188    0.1820808       0.08943669 0.4446279        0.09635106       \n",
       "2 0.29104478    0.1388017       0.05888714 0.3310440        0.21752966       \n",
       "3 0.38432836    0.1470193       0.07034015 0.4340619        0.11730749       \n",
       "4 0.09994670    0.1300862       0.06114825 0.4327412        0.15029446       \n",
       "5 0.09888060    0.2693859       0.15579532 0.2735918        0.14204771       \n",
       "6 0.39872068    0.1793914       0.08240759 0.3548174        0.16145181       \n",
       "  concavity_worst points_worst symmetry_worst dimension_worst\n",
       "1 0.09920128      0.3227148    0.2487680      0.08310376     \n",
       "2 0.15303514      0.2723711    0.2710428      0.13662600     \n",
       "3 0.08522364      0.2553608    0.2824759      0.15590975     \n",
       "4 0.06924121      0.2959107    0.1058545      0.08395645     \n",
       "5 0.10878594      0.2810309    0.1817465      0.08277581     \n",
       "6 0.20447284      0.2290034    0.2897694      0.18234291     "
      ]
     },
     "metadata": {},
     "output_type": "display_data"
    }
   ],
   "source": [
    "data_normalized <- data\n",
    "data_normalized[,-1] = as.data.frame(lapply(data[,-1], normalize))\n",
    "head(data_normalized)"
   ]
  },
  {
   "cell_type": "code",
   "execution_count": 11,
   "metadata": {},
   "outputs": [
    {
     "data": {
      "text/plain": [
       "\n",
       "  B   M \n",
       "357 212 "
      ]
     },
     "metadata": {},
     "output_type": "display_data"
    }
   ],
   "source": [
    "table(data$diagnosis)"
   ]
  },
  {
   "cell_type": "code",
   "execution_count": 12,
   "metadata": {},
   "outputs": [
    {
     "data": {
      "text/html": [
       "<table>\n",
       "<thead><tr><th scope=col>diagnosis</th><th scope=col>radius_mean</th><th scope=col>texture_mean</th><th scope=col>perimeter_mean</th><th scope=col>area_mean</th><th scope=col>smoothness_mean</th><th scope=col>compactness_mean</th><th scope=col>concavity_mean</th><th scope=col>points_mean</th><th scope=col>symmetry_mean</th><th scope=col>⋯</th><th scope=col>radius_worst</th><th scope=col>texture_worst</th><th scope=col>perimeter_worst</th><th scope=col>area_worst</th><th scope=col>smoothness_worst</th><th scope=col>compactness_worst</th><th scope=col>concavity_worst</th><th scope=col>points_worst</th><th scope=col>symmetry_worst</th><th scope=col>dimension_worst</th></tr></thead>\n",
       "<tbody>\n",
       "\t<tr><td>B         </td><td>0.2526859 </td><td>0.0906324 </td><td>0.2422777 </td><td>0.13599152</td><td>0.4529205 </td><td>0.1546838 </td><td>0.09341612</td><td>0.18389662</td><td>0.4540404 </td><td>⋯         </td><td>0.1981501 </td><td>0.09648188</td><td>0.1820808 </td><td>0.08943669</td><td>0.4446279 </td><td>0.09635106</td><td>0.09920128</td><td>0.3227148 </td><td>0.2487680 </td><td>0.08310376</td></tr>\n",
       "\t<tr><td>B         </td><td>0.1712812 </td><td>0.3124789 </td><td>0.1761454 </td><td>0.08606575</td><td>0.3994764 </td><td>0.2923747 </td><td>0.14964855</td><td>0.13131213</td><td>0.4353535 </td><td>⋯         </td><td>0.1405194 </td><td>0.29104478</td><td>0.1388017 </td><td>0.05888714</td><td>0.3310440 </td><td>0.21752966</td><td>0.15303514</td><td>0.2723711 </td><td>0.2710428 </td><td>0.13662600</td></tr>\n",
       "\t<tr><td>B         </td><td>0.1921056 </td><td>0.2407846 </td><td>0.1874784 </td><td>0.09743372</td><td>0.4971563 </td><td>0.1799276 </td><td>0.07136832</td><td>0.12326044</td><td>0.3303030 </td><td>⋯         </td><td>0.1593739 </td><td>0.38432836</td><td>0.1470193 </td><td>0.07034015</td><td>0.4340619 </td><td>0.11730749</td><td>0.08522364</td><td>0.2553608 </td><td>0.2824759 </td><td>0.15590975</td></tr>\n",
       "\t<tr><td>B         </td><td>0.2034644 </td><td>0.1244505 </td><td>0.2018520 </td><td>0.10235419</td><td>0.5756974 </td><td>0.2890007 </td><td>0.10859888</td><td>0.23836978</td><td>0.3590909 </td><td>⋯         </td><td>0.1419424 </td><td>0.09994670</td><td>0.1300862 </td><td>0.06114825</td><td>0.4327412 </td><td>0.15029446</td><td>0.06924121</td><td>0.2959107 </td><td>0.1058545 </td><td>0.08395645</td></tr>\n",
       "\t<tr><td>B         </td><td>0.3885182 </td><td>0.1183632 </td><td>0.3721927 </td><td>0.24106045</td><td>0.2437483 </td><td>0.1532421 </td><td>0.07949859</td><td>0.13205765</td><td>0.3338384 </td><td>⋯         </td><td>0.2942014 </td><td>0.09888060</td><td>0.2693859 </td><td>0.15579532</td><td>0.2735918 </td><td>0.14204771</td><td>0.10878594</td><td>0.2810309 </td><td>0.1817465 </td><td>0.08277581</td></tr>\n",
       "\t<tr><td>B         </td><td>0.2171896 </td><td>0.3155225 </td><td>0.2101444 </td><td>0.11291622</td><td>0.2963799 </td><td>0.1774124 </td><td>0.12851453</td><td>0.07097416</td><td>0.4904040 </td><td>⋯         </td><td>0.1828531 </td><td>0.39872068</td><td>0.1793914 </td><td>0.08240759</td><td>0.3548174 </td><td>0.16145181</td><td>0.20447284</td><td>0.2290034 </td><td>0.2897694 </td><td>0.18234291</td></tr>\n",
       "</tbody>\n",
       "</table>\n"
      ],
      "text/latex": [
       "\\begin{tabular}{r|lllllllllllllllllllllllllllllll}\n",
       " diagnosis & radius\\_mean & texture\\_mean & perimeter\\_mean & area\\_mean & smoothness\\_mean & compactness\\_mean & concavity\\_mean & points\\_mean & symmetry\\_mean & ⋯ & radius\\_worst & texture\\_worst & perimeter\\_worst & area\\_worst & smoothness\\_worst & compactness\\_worst & concavity\\_worst & points\\_worst & symmetry\\_worst & dimension\\_worst\\\\\n",
       "\\hline\n",
       "\t B          & 0.2526859  & 0.0906324  & 0.2422777  & 0.13599152 & 0.4529205  & 0.1546838  & 0.09341612 & 0.18389662 & 0.4540404  & ⋯          & 0.1981501  & 0.09648188 & 0.1820808  & 0.08943669 & 0.4446279  & 0.09635106 & 0.09920128 & 0.3227148  & 0.2487680  & 0.08310376\\\\\n",
       "\t B          & 0.1712812  & 0.3124789  & 0.1761454  & 0.08606575 & 0.3994764  & 0.2923747  & 0.14964855 & 0.13131213 & 0.4353535  & ⋯          & 0.1405194  & 0.29104478 & 0.1388017  & 0.05888714 & 0.3310440  & 0.21752966 & 0.15303514 & 0.2723711  & 0.2710428  & 0.13662600\\\\\n",
       "\t B          & 0.1921056  & 0.2407846  & 0.1874784  & 0.09743372 & 0.4971563  & 0.1799276  & 0.07136832 & 0.12326044 & 0.3303030  & ⋯          & 0.1593739  & 0.38432836 & 0.1470193  & 0.07034015 & 0.4340619  & 0.11730749 & 0.08522364 & 0.2553608  & 0.2824759  & 0.15590975\\\\\n",
       "\t B          & 0.2034644  & 0.1244505  & 0.2018520  & 0.10235419 & 0.5756974  & 0.2890007  & 0.10859888 & 0.23836978 & 0.3590909  & ⋯          & 0.1419424  & 0.09994670 & 0.1300862  & 0.06114825 & 0.4327412  & 0.15029446 & 0.06924121 & 0.2959107  & 0.1058545  & 0.08395645\\\\\n",
       "\t B          & 0.3885182  & 0.1183632  & 0.3721927  & 0.24106045 & 0.2437483  & 0.1532421  & 0.07949859 & 0.13205765 & 0.3338384  & ⋯          & 0.2942014  & 0.09888060 & 0.2693859  & 0.15579532 & 0.2735918  & 0.14204771 & 0.10878594 & 0.2810309  & 0.1817465  & 0.08277581\\\\\n",
       "\t B          & 0.2171896  & 0.3155225  & 0.2101444  & 0.11291622 & 0.2963799  & 0.1774124  & 0.12851453 & 0.07097416 & 0.4904040  & ⋯          & 0.1828531  & 0.39872068 & 0.1793914  & 0.08240759 & 0.3548174  & 0.16145181 & 0.20447284 & 0.2290034  & 0.2897694  & 0.18234291\\\\\n",
       "\\end{tabular}\n"
      ],
      "text/markdown": [
       "\n",
       "diagnosis | radius_mean | texture_mean | perimeter_mean | area_mean | smoothness_mean | compactness_mean | concavity_mean | points_mean | symmetry_mean | ⋯ | radius_worst | texture_worst | perimeter_worst | area_worst | smoothness_worst | compactness_worst | concavity_worst | points_worst | symmetry_worst | dimension_worst | \n",
       "|---|---|---|---|---|---|\n",
       "| B          | 0.2526859  | 0.0906324  | 0.2422777  | 0.13599152 | 0.4529205  | 0.1546838  | 0.09341612 | 0.18389662 | 0.4540404  | ⋯          | 0.1981501  | 0.09648188 | 0.1820808  | 0.08943669 | 0.4446279  | 0.09635106 | 0.09920128 | 0.3227148  | 0.2487680  | 0.08310376 | \n",
       "| B          | 0.1712812  | 0.3124789  | 0.1761454  | 0.08606575 | 0.3994764  | 0.2923747  | 0.14964855 | 0.13131213 | 0.4353535  | ⋯          | 0.1405194  | 0.29104478 | 0.1388017  | 0.05888714 | 0.3310440  | 0.21752966 | 0.15303514 | 0.2723711  | 0.2710428  | 0.13662600 | \n",
       "| B          | 0.1921056  | 0.2407846  | 0.1874784  | 0.09743372 | 0.4971563  | 0.1799276  | 0.07136832 | 0.12326044 | 0.3303030  | ⋯          | 0.1593739  | 0.38432836 | 0.1470193  | 0.07034015 | 0.4340619  | 0.11730749 | 0.08522364 | 0.2553608  | 0.2824759  | 0.15590975 | \n",
       "| B          | 0.2034644  | 0.1244505  | 0.2018520  | 0.10235419 | 0.5756974  | 0.2890007  | 0.10859888 | 0.23836978 | 0.3590909  | ⋯          | 0.1419424  | 0.09994670 | 0.1300862  | 0.06114825 | 0.4327412  | 0.15029446 | 0.06924121 | 0.2959107  | 0.1058545  | 0.08395645 | \n",
       "| B          | 0.3885182  | 0.1183632  | 0.3721927  | 0.24106045 | 0.2437483  | 0.1532421  | 0.07949859 | 0.13205765 | 0.3338384  | ⋯          | 0.2942014  | 0.09888060 | 0.2693859  | 0.15579532 | 0.2735918  | 0.14204771 | 0.10878594 | 0.2810309  | 0.1817465  | 0.08277581 | \n",
       "| B          | 0.2171896  | 0.3155225  | 0.2101444  | 0.11291622 | 0.2963799  | 0.1774124  | 0.12851453 | 0.07097416 | 0.4904040  | ⋯          | 0.1828531  | 0.39872068 | 0.1793914  | 0.08240759 | 0.3548174  | 0.16145181 | 0.20447284 | 0.2290034  | 0.2897694  | 0.18234291 | \n",
       "\n",
       "\n"
      ],
      "text/plain": [
       "  diagnosis radius_mean texture_mean perimeter_mean area_mean  smoothness_mean\n",
       "1 B         0.2526859   0.0906324    0.2422777      0.13599152 0.4529205      \n",
       "2 B         0.1712812   0.3124789    0.1761454      0.08606575 0.3994764      \n",
       "3 B         0.1921056   0.2407846    0.1874784      0.09743372 0.4971563      \n",
       "4 B         0.2034644   0.1244505    0.2018520      0.10235419 0.5756974      \n",
       "5 B         0.3885182   0.1183632    0.3721927      0.24106045 0.2437483      \n",
       "6 B         0.2171896   0.3155225    0.2101444      0.11291622 0.2963799      \n",
       "  compactness_mean concavity_mean points_mean symmetry_mean ⋯ radius_worst\n",
       "1 0.1546838        0.09341612     0.18389662  0.4540404     ⋯ 0.1981501   \n",
       "2 0.2923747        0.14964855     0.13131213  0.4353535     ⋯ 0.1405194   \n",
       "3 0.1799276        0.07136832     0.12326044  0.3303030     ⋯ 0.1593739   \n",
       "4 0.2890007        0.10859888     0.23836978  0.3590909     ⋯ 0.1419424   \n",
       "5 0.1532421        0.07949859     0.13205765  0.3338384     ⋯ 0.2942014   \n",
       "6 0.1774124        0.12851453     0.07097416  0.4904040     ⋯ 0.1828531   \n",
       "  texture_worst perimeter_worst area_worst smoothness_worst compactness_worst\n",
       "1 0.09648188    0.1820808       0.08943669 0.4446279        0.09635106       \n",
       "2 0.29104478    0.1388017       0.05888714 0.3310440        0.21752966       \n",
       "3 0.38432836    0.1470193       0.07034015 0.4340619        0.11730749       \n",
       "4 0.09994670    0.1300862       0.06114825 0.4327412        0.15029446       \n",
       "5 0.09888060    0.2693859       0.15579532 0.2735918        0.14204771       \n",
       "6 0.39872068    0.1793914       0.08240759 0.3548174        0.16145181       \n",
       "  concavity_worst points_worst symmetry_worst dimension_worst\n",
       "1 0.09920128      0.3227148    0.2487680      0.08310376     \n",
       "2 0.15303514      0.2723711    0.2710428      0.13662600     \n",
       "3 0.08522364      0.2553608    0.2824759      0.15590975     \n",
       "4 0.06924121      0.2959107    0.1058545      0.08395645     \n",
       "5 0.10878594      0.2810309    0.1817465      0.08277581     \n",
       "6 0.20447284      0.2290034    0.2897694      0.18234291     "
      ]
     },
     "metadata": {},
     "output_type": "display_data"
    },
    {
     "data": {
      "text/html": [
       "<table>\n",
       "<thead><tr><th></th><th scope=col>diagnosis</th><th scope=col>radius_mean</th><th scope=col>texture_mean</th><th scope=col>perimeter_mean</th><th scope=col>area_mean</th><th scope=col>smoothness_mean</th><th scope=col>compactness_mean</th><th scope=col>concavity_mean</th><th scope=col>points_mean</th><th scope=col>symmetry_mean</th><th scope=col>⋯</th><th scope=col>radius_worst</th><th scope=col>texture_worst</th><th scope=col>perimeter_worst</th><th scope=col>area_worst</th><th scope=col>smoothness_worst</th><th scope=col>compactness_worst</th><th scope=col>concavity_worst</th><th scope=col>points_worst</th><th scope=col>symmetry_worst</th><th scope=col>dimension_worst</th></tr></thead>\n",
       "<tbody>\n",
       "\t<tr><th scope=row>301</th><td>M          </td><td>0.5778314  </td><td>0.2106865  </td><td>0.5701748  </td><td>0.42990456 </td><td>0.3097409  </td><td>0.30403043 </td><td>0.279522024</td><td>0.48046720 </td><td>0.3439394  </td><td>⋯          </td><td>0.5016009  </td><td>0.1543177  </td><td>0.4790577  </td><td>0.32191309 </td><td>0.2722710  </td><td>0.16911643 </td><td>0.18083067 </td><td>0.6106529  </td><td>0.1730731  </td><td>0.04899646 </td></tr>\n",
       "\t<tr><th scope=row>302</th><td>B          </td><td>0.3445028  </td><td>0.2861008  </td><td>0.3277590  </td><td>0.20767762 </td><td>0.1185339  </td><td>0.10066867 </td><td>0.057989691</td><td>0.06829026 </td><td>0.2904040  </td><td>⋯          </td><td>0.2949128  </td><td>0.3528785  </td><td>0.2758604  </td><td>0.15594278 </td><td>0.1537344  </td><td>0.18376653 </td><td>0.12500000 </td><td>0.2587629  </td><td>0.2111177  </td><td>0.14246360 </td></tr>\n",
       "\t<tr><th scope=row>303</th><td>B          </td><td>0.1854797  </td><td>0.1099087  </td><td>0.1720683  </td><td>0.09471898 </td><td>0.2033041  </td><td>0.05459788 </td><td>0.007239925</td><td>0.03274354 </td><td>0.1929293  </td><td>⋯          </td><td>0.1575952  </td><td>0.1647122  </td><td>0.1377559  </td><td>0.06999607 </td><td>0.3033085  </td><td>0.05399191 </td><td>0.01480831 </td><td>0.1358419  </td><td>0.2312241  </td><td>0.14305392 </td></tr>\n",
       "\t<tr><th scope=row>304</th><td>M          </td><td>0.3038005  </td><td>0.3655732  </td><td>0.3099302  </td><td>0.17527041 </td><td>0.5233366  </td><td>0.39114165 </td><td>0.338566073</td><td>0.40616302 </td><td>0.5333333  </td><td>⋯          </td><td>0.3016720  </td><td>0.4701493  </td><td>0.3132128  </td><td>0.16201337 </td><td>0.5694380  </td><td>0.34763416 </td><td>0.40782748 </td><td>0.7048110  </td><td>0.3981865  </td><td>0.36639118 </td></tr>\n",
       "\t<tr><th scope=row>305</th><td>M          </td><td>0.4150220  </td><td>0.3564423  </td><td>0.4063990  </td><td>0.26205726 </td><td>0.4502122  </td><td>0.30985829 </td><td>0.268744142</td><td>0.32117296 </td><td>0.4419192  </td><td>⋯          </td><td>0.4137318  </td><td>0.4869403  </td><td>0.3759649  </td><td>0.22188360 </td><td>0.5549099  </td><td>0.40817495 </td><td>0.31757188 </td><td>0.5082474  </td><td>0.4786123  </td><td>0.33687525 </td></tr>\n",
       "\t<tr><th scope=row>306</th><td>M          </td><td>0.6403048  </td><td>0.6121069  </td><td>0.6261488  </td><td>0.49862142 </td><td>0.3517198  </td><td>0.26998344 </td><td>0.364104967</td><td>0.41451292 </td><td>0.1959596  </td><td>⋯          </td><td>0.5884027  </td><td>0.6759062  </td><td>0.5592410  </td><td>0.41456941 </td><td>0.3376478  </td><td>0.24139671 </td><td>0.33115016 </td><td>0.5371134  </td><td>0.1718904  </td><td>0.18522891 </td></tr>\n",
       "</tbody>\n",
       "</table>\n"
      ],
      "text/latex": [
       "\\begin{tabular}{r|lllllllllllllllllllllllllllllll}\n",
       "  & diagnosis & radius\\_mean & texture\\_mean & perimeter\\_mean & area\\_mean & smoothness\\_mean & compactness\\_mean & concavity\\_mean & points\\_mean & symmetry\\_mean & ⋯ & radius\\_worst & texture\\_worst & perimeter\\_worst & area\\_worst & smoothness\\_worst & compactness\\_worst & concavity\\_worst & points\\_worst & symmetry\\_worst & dimension\\_worst\\\\\n",
       "\\hline\n",
       "\t301 & M           & 0.5778314   & 0.2106865   & 0.5701748   & 0.42990456  & 0.3097409   & 0.30403043  & 0.279522024 & 0.48046720  & 0.3439394   & ⋯           & 0.5016009   & 0.1543177   & 0.4790577   & 0.32191309  & 0.2722710   & 0.16911643  & 0.18083067  & 0.6106529   & 0.1730731   & 0.04899646 \\\\\n",
       "\t302 & B           & 0.3445028   & 0.2861008   & 0.3277590   & 0.20767762  & 0.1185339   & 0.10066867  & 0.057989691 & 0.06829026  & 0.2904040   & ⋯           & 0.2949128   & 0.3528785   & 0.2758604   & 0.15594278  & 0.1537344   & 0.18376653  & 0.12500000  & 0.2587629   & 0.2111177   & 0.14246360 \\\\\n",
       "\t303 & B           & 0.1854797   & 0.1099087   & 0.1720683   & 0.09471898  & 0.2033041   & 0.05459788  & 0.007239925 & 0.03274354  & 0.1929293   & ⋯           & 0.1575952   & 0.1647122   & 0.1377559   & 0.06999607  & 0.3033085   & 0.05399191  & 0.01480831  & 0.1358419   & 0.2312241   & 0.14305392 \\\\\n",
       "\t304 & M           & 0.3038005   & 0.3655732   & 0.3099302   & 0.17527041  & 0.5233366   & 0.39114165  & 0.338566073 & 0.40616302  & 0.5333333   & ⋯           & 0.3016720   & 0.4701493   & 0.3132128   & 0.16201337  & 0.5694380   & 0.34763416  & 0.40782748  & 0.7048110   & 0.3981865   & 0.36639118 \\\\\n",
       "\t305 & M           & 0.4150220   & 0.3564423   & 0.4063990   & 0.26205726  & 0.4502122   & 0.30985829  & 0.268744142 & 0.32117296  & 0.4419192   & ⋯           & 0.4137318   & 0.4869403   & 0.3759649   & 0.22188360  & 0.5549099   & 0.40817495  & 0.31757188  & 0.5082474   & 0.4786123   & 0.33687525 \\\\\n",
       "\t306 & M           & 0.6403048   & 0.6121069   & 0.6261488   & 0.49862142  & 0.3517198   & 0.26998344  & 0.364104967 & 0.41451292  & 0.1959596   & ⋯           & 0.5884027   & 0.6759062   & 0.5592410   & 0.41456941  & 0.3376478   & 0.24139671  & 0.33115016  & 0.5371134   & 0.1718904   & 0.18522891 \\\\\n",
       "\\end{tabular}\n"
      ],
      "text/markdown": [
       "\n",
       "| <!--/--> | diagnosis | radius_mean | texture_mean | perimeter_mean | area_mean | smoothness_mean | compactness_mean | concavity_mean | points_mean | symmetry_mean | ⋯ | radius_worst | texture_worst | perimeter_worst | area_worst | smoothness_worst | compactness_worst | concavity_worst | points_worst | symmetry_worst | dimension_worst | \n",
       "|---|---|---|---|---|---|\n",
       "| 301 | M           | 0.5778314   | 0.2106865   | 0.5701748   | 0.42990456  | 0.3097409   | 0.30403043  | 0.279522024 | 0.48046720  | 0.3439394   | ⋯           | 0.5016009   | 0.1543177   | 0.4790577   | 0.32191309  | 0.2722710   | 0.16911643  | 0.18083067  | 0.6106529   | 0.1730731   | 0.04899646  | \n",
       "| 302 | B           | 0.3445028   | 0.2861008   | 0.3277590   | 0.20767762  | 0.1185339   | 0.10066867  | 0.057989691 | 0.06829026  | 0.2904040   | ⋯           | 0.2949128   | 0.3528785   | 0.2758604   | 0.15594278  | 0.1537344   | 0.18376653  | 0.12500000  | 0.2587629   | 0.2111177   | 0.14246360  | \n",
       "| 303 | B           | 0.1854797   | 0.1099087   | 0.1720683   | 0.09471898  | 0.2033041   | 0.05459788  | 0.007239925 | 0.03274354  | 0.1929293   | ⋯           | 0.1575952   | 0.1647122   | 0.1377559   | 0.06999607  | 0.3033085   | 0.05399191  | 0.01480831  | 0.1358419   | 0.2312241   | 0.14305392  | \n",
       "| 304 | M           | 0.3038005   | 0.3655732   | 0.3099302   | 0.17527041  | 0.5233366   | 0.39114165  | 0.338566073 | 0.40616302  | 0.5333333   | ⋯           | 0.3016720   | 0.4701493   | 0.3132128   | 0.16201337  | 0.5694380   | 0.34763416  | 0.40782748  | 0.7048110   | 0.3981865   | 0.36639118  | \n",
       "| 305 | M           | 0.4150220   | 0.3564423   | 0.4063990   | 0.26205726  | 0.4502122   | 0.30985829  | 0.268744142 | 0.32117296  | 0.4419192   | ⋯           | 0.4137318   | 0.4869403   | 0.3759649   | 0.22188360  | 0.5549099   | 0.40817495  | 0.31757188  | 0.5082474   | 0.4786123   | 0.33687525  | \n",
       "| 306 | M           | 0.6403048   | 0.6121069   | 0.6261488   | 0.49862142  | 0.3517198   | 0.26998344  | 0.364104967 | 0.41451292  | 0.1959596   | ⋯           | 0.5884027   | 0.6759062   | 0.5592410   | 0.41456941  | 0.3376478   | 0.24139671  | 0.33115016  | 0.5371134   | 0.1718904   | 0.18522891  | \n",
       "\n",
       "\n"
      ],
      "text/plain": [
       "    diagnosis radius_mean texture_mean perimeter_mean area_mean \n",
       "301 M         0.5778314   0.2106865    0.5701748      0.42990456\n",
       "302 B         0.3445028   0.2861008    0.3277590      0.20767762\n",
       "303 B         0.1854797   0.1099087    0.1720683      0.09471898\n",
       "304 M         0.3038005   0.3655732    0.3099302      0.17527041\n",
       "305 M         0.4150220   0.3564423    0.4063990      0.26205726\n",
       "306 M         0.6403048   0.6121069    0.6261488      0.49862142\n",
       "    smoothness_mean compactness_mean concavity_mean points_mean symmetry_mean ⋯\n",
       "301 0.3097409       0.30403043       0.279522024    0.48046720  0.3439394     ⋯\n",
       "302 0.1185339       0.10066867       0.057989691    0.06829026  0.2904040     ⋯\n",
       "303 0.2033041       0.05459788       0.007239925    0.03274354  0.1929293     ⋯\n",
       "304 0.5233366       0.39114165       0.338566073    0.40616302  0.5333333     ⋯\n",
       "305 0.4502122       0.30985829       0.268744142    0.32117296  0.4419192     ⋯\n",
       "306 0.3517198       0.26998344       0.364104967    0.41451292  0.1959596     ⋯\n",
       "    radius_worst texture_worst perimeter_worst area_worst smoothness_worst\n",
       "301 0.5016009    0.1543177     0.4790577       0.32191309 0.2722710       \n",
       "302 0.2949128    0.3528785     0.2758604       0.15594278 0.1537344       \n",
       "303 0.1575952    0.1647122     0.1377559       0.06999607 0.3033085       \n",
       "304 0.3016720    0.4701493     0.3132128       0.16201337 0.5694380       \n",
       "305 0.4137318    0.4869403     0.3759649       0.22188360 0.5549099       \n",
       "306 0.5884027    0.6759062     0.5592410       0.41456941 0.3376478       \n",
       "    compactness_worst concavity_worst points_worst symmetry_worst\n",
       "301 0.16911643        0.18083067      0.6106529    0.1730731     \n",
       "302 0.18376653        0.12500000      0.2587629    0.2111177     \n",
       "303 0.05399191        0.01480831      0.1358419    0.2312241     \n",
       "304 0.34763416        0.40782748      0.7048110    0.3981865     \n",
       "305 0.40817495        0.31757188      0.5082474    0.4786123     \n",
       "306 0.24139671        0.33115016      0.5371134    0.1718904     \n",
       "    dimension_worst\n",
       "301 0.04899646     \n",
       "302 0.14246360     \n",
       "303 0.14305392     \n",
       "304 0.36639118     \n",
       "305 0.33687525     \n",
       "306 0.18522891     "
      ]
     },
     "metadata": {},
     "output_type": "display_data"
    },
    {
     "data": {
      "text/html": [
       "300"
      ],
      "text/latex": [
       "300"
      ],
      "text/markdown": [
       "300"
      ],
      "text/plain": [
       "[1] 300"
      ]
     },
     "metadata": {},
     "output_type": "display_data"
    },
    {
     "data": {
      "text/html": [
       "269"
      ],
      "text/latex": [
       "269"
      ],
      "text/markdown": [
       "269"
      ],
      "text/plain": [
       "[1] 269"
      ]
     },
     "metadata": {},
     "output_type": "display_data"
    },
    {
     "data": {
      "text/html": [
       "569"
      ],
      "text/latex": [
       "569"
      ],
      "text/markdown": [
       "569"
      ],
      "text/plain": [
       "[1] 569"
      ]
     },
     "metadata": {},
     "output_type": "display_data"
    }
   ],
   "source": [
    "training <- data_normalized[c(1:300),]\n",
    "head(training)\n",
    "testing <-data_normalized[c(301:nrow(data_normalized)),]\n",
    "head(testing)\n",
    "nrow(training)\n",
    "nrow(testing)\n",
    "nrow(data)"
   ]
  },
  {
   "cell_type": "code",
   "execution_count": 13,
   "metadata": {},
   "outputs": [],
   "source": [
    "library(class)"
   ]
  },
  {
   "cell_type": "code",
   "execution_count": 14,
   "metadata": {},
   "outputs": [],
   "source": [
    "test_pred <- knn(training[,-1], testing[,-1], training[,1], k=21)"
   ]
  },
  {
   "cell_type": "code",
   "execution_count": 15,
   "metadata": {},
   "outputs": [
    {
     "data": {
      "text/html": [
       "'factor'"
      ],
      "text/latex": [
       "'factor'"
      ],
      "text/markdown": [
       "'factor'"
      ],
      "text/plain": [
       "[1] \"factor\""
      ]
     },
     "metadata": {},
     "output_type": "display_data"
    },
    {
     "data": {
      "text/html": [
       "'character'"
      ],
      "text/latex": [
       "'character'"
      ],
      "text/markdown": [
       "'character'"
      ],
      "text/plain": [
       "[1] \"character\""
      ]
     },
     "metadata": {},
     "output_type": "display_data"
    },
    {
     "data": {
      "text/html": [
       "0.951672862453532"
      ],
      "text/latex": [
       "0.951672862453532"
      ],
      "text/markdown": [
       "0.951672862453532"
      ],
      "text/plain": [
       "[1] 0.9516729"
      ]
     },
     "metadata": {},
     "output_type": "display_data"
    }
   ],
   "source": [
    "class(test_pred)\n",
    "class(testing[,1])\n",
    "\n",
    "res = (test_pred == factor(testing[,1]))\n",
    "mean(res)"
   ]
  },
  {
   "cell_type": "code",
   "execution_count": 16,
   "metadata": {},
   "outputs": [
    {
     "name": "stdout",
     "output_type": "stream",
     "text": [
      "\n",
      " \n",
      "   Cell Contents\n",
      "|-------------------------|\n",
      "|                       N |\n",
      "|           N / Row Total |\n",
      "|           N / Col Total |\n",
      "|         N / Table Total |\n",
      "|-------------------------|\n",
      "\n",
      " \n",
      "Total Observations in Table:  269 \n",
      "\n",
      " \n",
      "             | factor(testing[, 1]) \n",
      "   test_pred |         B |         M | Row Total | \n",
      "-------------|-----------|-----------|-----------|\n",
      "           B |       168 |        11 |       179 | \n",
      "             |     0.939 |     0.061 |     0.665 | \n",
      "             |     0.988 |     0.111 |           | \n",
      "             |     0.625 |     0.041 |           | \n",
      "-------------|-----------|-----------|-----------|\n",
      "           M |         2 |        88 |        90 | \n",
      "             |     0.022 |     0.978 |     0.335 | \n",
      "             |     0.012 |     0.889 |           | \n",
      "             |     0.007 |     0.327 |           | \n",
      "-------------|-----------|-----------|-----------|\n",
      "Column Total |       170 |        99 |       269 | \n",
      "             |     0.632 |     0.368 |           | \n",
      "-------------|-----------|-----------|-----------|\n",
      "\n",
      " \n"
     ]
    }
   ],
   "source": [
    "library(gmodels)\n",
    "CrossTable(x=test_pred, y=factor(testing[,1]), prop.chisq=FALSE)"
   ]
  },
  {
   "cell_type": "code",
   "execution_count": 17,
   "metadata": {},
   "outputs": [
    {
     "data": {
      "text/html": [
       "0.947955390334573"
      ],
      "text/latex": [
       "0.947955390334573"
      ],
      "text/markdown": [
       "0.947955390334573"
      ],
      "text/plain": [
       "[1] 0.9479554"
      ]
     },
     "metadata": {},
     "output_type": "display_data"
    }
   ],
   "source": [
    "train_test_knn <- function(dataset, size_of_trainig_set, k){\n",
    "    training = dataset[c(1:size_of_trainig_set),]\n",
    "    testing = dataset[c((size_of_trainig_set+1): nrow(dataset)),]\n",
    "    test_pred <- knn(training[,-1], testing[,-1], training[,1], k=k)\n",
    "    return(mean(test_pred == factor(testing[,1])))\n",
    "}\n",
    "\n",
    "train_test_knn(data_normalized, 300, 21)"
   ]
  },
  {
   "cell_type": "code",
   "execution_count": 18,
   "metadata": {},
   "outputs": [
    {
     "data": {
      "text/html": [
       "0.982248520710059"
      ],
      "text/latex": [
       "0.982248520710059"
      ],
      "text/markdown": [
       "0.982248520710059"
      ],
      "text/plain": [
       "[1] 0.9822485"
      ]
     },
     "metadata": {},
     "output_type": "display_data"
    }
   ],
   "source": [
    "train_test_knn(data_normalized, 400, 21)"
   ]
  },
  {
   "cell_type": "markdown",
   "metadata": {},
   "source": [
    "### Training data with variable training set size"
   ]
  },
  {
   "cell_type": "code",
   "execution_count": 19,
   "metadata": {},
   "outputs": [
    {
     "data": {
      "text/html": [
       "0.985611510791367"
      ],
      "text/latex": [
       "0.985611510791367"
      ],
      "text/markdown": [
       "0.985611510791367"
      ],
      "text/plain": [
       "[1] 0.9856115"
      ]
     },
     "metadata": {},
     "output_type": "display_data"
    },
    {
     "data": {
      "text/html": [
       "<ol class=list-inline>\n",
       "\t<li>430</li>\n",
       "\t<li>430</li>\n",
       "</ol>\n"
      ],
      "text/latex": [
       "\\begin{enumerate*}\n",
       "\\item 430\n",
       "\\item 430\n",
       "\\end{enumerate*}\n"
      ],
      "text/markdown": [
       "1. 430\n",
       "2. 430\n",
       "\n",
       "\n"
      ],
      "text/plain": [
       "[1] 430 430"
      ]
     },
     "metadata": {},
     "output_type": "display_data"
    },
    {
     "data": {
      "text/html": [
       "<ol class=list-inline>\n",
       "\t<li>15</li>\n",
       "\t<li>20</li>\n",
       "</ol>\n"
      ],
      "text/latex": [
       "\\begin{enumerate*}\n",
       "\\item 15\n",
       "\\item 20\n",
       "\\end{enumerate*}\n"
      ],
      "text/markdown": [
       "1. 15\n",
       "2. 20\n",
       "\n",
       "\n"
      ],
      "text/plain": [
       "[1] 15 20"
      ]
     },
     "metadata": {},
     "output_type": "display_data"
    }
   ],
   "source": [
    "values = c()\n",
    "sizes = c()\n",
    "ks = c()\n",
    "for(size in seq(250,470,10)){\n",
    "    for(k in 15:27){\n",
    "        values = c(values, c(train_test_knn(data_normalized, size, k)))\n",
    "        sizes = c(sizes, size)\n",
    "        ks = c(ks, k)\n",
    "    }\n",
    "}\n",
    "max(values)\n",
    "sizes[values == max(values)]\n",
    "ks[values == max(values)]"
   ]
  },
  {
   "cell_type": "code",
   "execution_count": 35,
   "metadata": {},
   "outputs": [
    {
     "data": {
      "text/html": [
       "0.98"
      ],
      "text/latex": [
       "0.98"
      ],
      "text/markdown": [
       "0.98"
      ],
      "text/plain": [
       "[1] 0.98"
      ]
     },
     "metadata": {},
     "output_type": "display_data"
    }
   ],
   "source": [
    "train_test_knn(data_normalized, 469, 21)"
   ]
  },
  {
   "cell_type": "markdown",
   "metadata": {},
   "source": [
    "### Training data with fixed training set size"
   ]
  },
  {
   "cell_type": "code",
   "execution_count": 37,
   "metadata": {},
   "outputs": [
    {
     "data": {
      "text/html": [
       "0.936034115138593"
      ],
      "text/latex": [
       "0.936034115138593"
      ],
      "text/markdown": [
       "0.936034115138593"
      ],
      "text/plain": [
       "[1] 0.9360341"
      ]
     },
     "metadata": {},
     "output_type": "display_data"
    },
    {
     "data": {
      "text/html": [
       "5"
      ],
      "text/latex": [
       "5"
      ],
      "text/markdown": [
       "5"
      ],
      "text/plain": [
       "[1] 5"
      ]
     },
     "metadata": {},
     "output_type": "display_data"
    }
   ],
   "source": [
    "values = c()\n",
    "# sizes = c()\n",
    "ks = c()\n",
    "for(k in 3:27){\n",
    "    values = c(values, c(train_test_knn(data_normalized, 100, k)))\n",
    "    # sizes = c(sizes, size)\n",
    "    ks = c(ks, k)\n",
    "}\n",
    "max(values)\n",
    "# sizes[values == max(values)]\n",
    "ks[values == max(values)]"
   ]
  },
  {
   "cell_type": "code",
   "execution_count": 33,
   "metadata": {},
   "outputs": [
    {
     "data": {
      "text/html": [
       "0.936034115138593"
      ],
      "text/latex": [
       "0.936034115138593"
      ],
      "text/markdown": [
       "0.936034115138593"
      ],
      "text/plain": [
       "[1] 0.9360341"
      ]
     },
     "metadata": {},
     "output_type": "display_data"
    }
   ],
   "source": [
    "train_test_knn(data_normalized, 100, 5)"
   ]
  },
  {
   "cell_type": "code",
   "execution_count": 23,
   "metadata": {},
   "outputs": [
    {
     "data": {
      "text/html": [
       "<ol class=list-inline>\n",
       "\t<li>-1.26491106406735</li>\n",
       "\t<li>-0.632455532033676</li>\n",
       "\t<li>0</li>\n",
       "\t<li>0.632455532033676</li>\n",
       "\t<li>1.26491106406735</li>\n",
       "</ol>\n"
      ],
      "text/latex": [
       "\\begin{enumerate*}\n",
       "\\item -1.26491106406735\n",
       "\\item -0.632455532033676\n",
       "\\item 0\n",
       "\\item 0.632455532033676\n",
       "\\item 1.26491106406735\n",
       "\\end{enumerate*}\n"
      ],
      "text/markdown": [
       "1. -1.26491106406735\n",
       "2. -0.632455532033676\n",
       "3. 0\n",
       "4. 0.632455532033676\n",
       "5. 1.26491106406735\n",
       "\n",
       "\n"
      ],
      "text/plain": [
       "[1] -1.2649111 -0.6324555  0.0000000  0.6324555  1.2649111"
      ]
     },
     "metadata": {},
     "output_type": "display_data"
    }
   ],
   "source": [
    "# z-score normalization\n",
    "zScore <- function(dataset){\n",
    "    return((dataset-mean(dataset))/sd(dataset))\n",
    "}\n",
    "#TEST\n",
    "zScore(c(1,2,3,4,5))"
   ]
  },
  {
   "cell_type": "markdown",
   "metadata": {},
   "source": [
    "### Test z-score normalization"
   ]
  },
  {
   "cell_type": "code",
   "execution_count": 38,
   "metadata": {},
   "outputs": [
    {
     "data": {
      "text/html": [
       "<table>\n",
       "<thead><tr><th scope=col>diagnosis</th><th scope=col>radius_mean</th><th scope=col>texture_mean</th><th scope=col>perimeter_mean</th><th scope=col>area_mean</th><th scope=col>smoothness_mean</th><th scope=col>compactness_mean</th><th scope=col>concavity_mean</th><th scope=col>points_mean</th><th scope=col>symmetry_mean</th><th scope=col>⋯</th><th scope=col>radius_worst</th><th scope=col>texture_worst</th><th scope=col>perimeter_worst</th><th scope=col>area_worst</th><th scope=col>smoothness_worst</th><th scope=col>compactness_worst</th><th scope=col>concavity_worst</th><th scope=col>points_worst</th><th scope=col>symmetry_worst</th><th scope=col>dimension_worst</th></tr></thead>\n",
       "<tbody>\n",
       "\t<tr><td>B          </td><td>-0.5128453 </td><td>-1.60418301</td><td>-0.5399006 </td><td>-0.5421468 </td><td> 0.4578825 </td><td>-0.6538379 </td><td>-0.6137661 </td><td>-0.30717196</td><td> 0.5376080 </td><td>⋯          </td><td>-0.5729467 </td><td>-1.6330626 </td><td>-0.60385945</td><td>-0.5822061 </td><td> 0.2685394 </td><td>-0.81141409</td><td>-0.70935407</td><td>-0.3148560 </td><td>-0.11921566</td><td>-0.89893012</td></tr>\n",
       "\t<tr><td>B          </td><td>-1.0009202 </td><td>-0.07896900</td><td>-0.9337442 </td><td>-0.8766033 </td><td> 0.0369535 </td><td> 0.1961461 </td><td>-0.3127117 </td><td>-0.57983238</td><td> 0.4026419 </td><td>⋯          </td><td>-0.9081255 </td><td>-0.4453479 </td><td>-0.86247083</td><td>-0.8005226 </td><td>-0.4847751 </td><td>-0.01757408</td><td>-0.38628525</td><td>-0.5377296 </td><td> 0.06343283</td><td>-0.44713458</td></tr>\n",
       "\t<tr><td>B          </td><td>-0.8760638 </td><td>-0.57187353</td><td>-0.8662517 </td><td>-0.8004484 </td><td> 0.8062867 </td><td>-0.4980044 </td><td>-0.7318045 </td><td>-0.62158190</td><td>-0.3560868 </td><td>⋯          </td><td>-0.7984682 </td><td> 0.1241043 </td><td>-0.81336741</td><td>-0.7186759 </td><td> 0.1984636 </td><td>-0.67412871</td><td>-0.79323693</td><td>-0.6130350 </td><td> 0.15718162</td><td>-0.28435531</td></tr>\n",
       "\t<tr><td>B          </td><td>-0.8079604 </td><td>-1.37168088</td><td>-0.7806514 </td><td>-0.7674858 </td><td> 1.4248817 </td><td> 0.1753178 </td><td>-0.5324814 </td><td>-0.02471844</td><td>-0.1481659 </td><td>⋯          </td><td>-0.8998495 </td><td>-1.6119115 </td><td>-0.91455023</td><td>-0.7843640 </td><td> 0.1897041 </td><td>-0.45803135</td><td>-0.88915098</td><td>-0.4335191 </td><td>-1.29107549</td><td>-0.89173240</td></tr>\n",
       "\t<tr><td>B          </td><td> 0.3015589 </td><td>-1.41353126</td><td> 0.2337944 </td><td> 0.1617181 </td><td>-1.1895712 </td><td>-0.6627373 </td><td>-0.6882771 </td><td>-0.57596668</td><td>-0.3305526 </td><td>⋯          </td><td>-0.0143154 </td><td>-1.6184195 </td><td>-0.08217273</td><td>-0.1079870 </td><td>-0.8658121 </td><td>-0.51205569</td><td>-0.65183440</td><td>-0.4993923 </td><td>-0.66877751</td><td>-0.90169847</td></tr>\n",
       "\t<tr><td>B          </td><td>-0.7256686 </td><td>-0.05804381</td><td>-0.7312666 </td><td>-0.6967299 </td><td>-0.7750414 </td><td>-0.5135309 </td><td>-0.4258580 </td><td>-0.89269604</td><td> 0.8002448 </td><td>⋯          </td><td>-0.6619139 </td><td> 0.2119626 </td><td>-0.61992966</td><td>-0.6324382 </td><td>-0.3271047 </td><td>-0.38493959</td><td>-0.07759635</td><td>-0.7297203 </td><td> 0.21698688</td><td>-0.06122589</td></tr>\n",
       "</tbody>\n",
       "</table>\n"
      ],
      "text/latex": [
       "\\begin{tabular}{r|lllllllllllllllllllllllllllllll}\n",
       " diagnosis & radius\\_mean & texture\\_mean & perimeter\\_mean & area\\_mean & smoothness\\_mean & compactness\\_mean & concavity\\_mean & points\\_mean & symmetry\\_mean & ⋯ & radius\\_worst & texture\\_worst & perimeter\\_worst & area\\_worst & smoothness\\_worst & compactness\\_worst & concavity\\_worst & points\\_worst & symmetry\\_worst & dimension\\_worst\\\\\n",
       "\\hline\n",
       "\t B           & -0.5128453  & -1.60418301 & -0.5399006  & -0.5421468  &  0.4578825  & -0.6538379  & -0.6137661  & -0.30717196 &  0.5376080  & ⋯           & -0.5729467  & -1.6330626  & -0.60385945 & -0.5822061  &  0.2685394  & -0.81141409 & -0.70935407 & -0.3148560  & -0.11921566 & -0.89893012\\\\\n",
       "\t B           & -1.0009202  & -0.07896900 & -0.9337442  & -0.8766033  &  0.0369535  &  0.1961461  & -0.3127117  & -0.57983238 &  0.4026419  & ⋯           & -0.9081255  & -0.4453479  & -0.86247083 & -0.8005226  & -0.4847751  & -0.01757408 & -0.38628525 & -0.5377296  &  0.06343283 & -0.44713458\\\\\n",
       "\t B           & -0.8760638  & -0.57187353 & -0.8662517  & -0.8004484  &  0.8062867  & -0.4980044  & -0.7318045  & -0.62158190 & -0.3560868  & ⋯           & -0.7984682  &  0.1241043  & -0.81336741 & -0.7186759  &  0.1984636  & -0.67412871 & -0.79323693 & -0.6130350  &  0.15718162 & -0.28435531\\\\\n",
       "\t B           & -0.8079604  & -1.37168088 & -0.7806514  & -0.7674858  &  1.4248817  &  0.1753178  & -0.5324814  & -0.02471844 & -0.1481659  & ⋯           & -0.8998495  & -1.6119115  & -0.91455023 & -0.7843640  &  0.1897041  & -0.45803135 & -0.88915098 & -0.4335191  & -1.29107549 & -0.89173240\\\\\n",
       "\t B           &  0.3015589  & -1.41353126 &  0.2337944  &  0.1617181  & -1.1895712  & -0.6627373  & -0.6882771  & -0.57596668 & -0.3305526  & ⋯           & -0.0143154  & -1.6184195  & -0.08217273 & -0.1079870  & -0.8658121  & -0.51205569 & -0.65183440 & -0.4993923  & -0.66877751 & -0.90169847\\\\\n",
       "\t B           & -0.7256686  & -0.05804381 & -0.7312666  & -0.6967299  & -0.7750414  & -0.5135309  & -0.4258580  & -0.89269604 &  0.8002448  & ⋯           & -0.6619139  &  0.2119626  & -0.61992966 & -0.6324382  & -0.3271047  & -0.38493959 & -0.07759635 & -0.7297203  &  0.21698688 & -0.06122589\\\\\n",
       "\\end{tabular}\n"
      ],
      "text/markdown": [
       "\n",
       "diagnosis | radius_mean | texture_mean | perimeter_mean | area_mean | smoothness_mean | compactness_mean | concavity_mean | points_mean | symmetry_mean | ⋯ | radius_worst | texture_worst | perimeter_worst | area_worst | smoothness_worst | compactness_worst | concavity_worst | points_worst | symmetry_worst | dimension_worst | \n",
       "|---|---|---|---|---|---|\n",
       "| B           | -0.5128453  | -1.60418301 | -0.5399006  | -0.5421468  |  0.4578825  | -0.6538379  | -0.6137661  | -0.30717196 |  0.5376080  | ⋯           | -0.5729467  | -1.6330626  | -0.60385945 | -0.5822061  |  0.2685394  | -0.81141409 | -0.70935407 | -0.3148560  | -0.11921566 | -0.89893012 | \n",
       "| B           | -1.0009202  | -0.07896900 | -0.9337442  | -0.8766033  |  0.0369535  |  0.1961461  | -0.3127117  | -0.57983238 |  0.4026419  | ⋯           | -0.9081255  | -0.4453479  | -0.86247083 | -0.8005226  | -0.4847751  | -0.01757408 | -0.38628525 | -0.5377296  |  0.06343283 | -0.44713458 | \n",
       "| B           | -0.8760638  | -0.57187353 | -0.8662517  | -0.8004484  |  0.8062867  | -0.4980044  | -0.7318045  | -0.62158190 | -0.3560868  | ⋯           | -0.7984682  |  0.1241043  | -0.81336741 | -0.7186759  |  0.1984636  | -0.67412871 | -0.79323693 | -0.6130350  |  0.15718162 | -0.28435531 | \n",
       "| B           | -0.8079604  | -1.37168088 | -0.7806514  | -0.7674858  |  1.4248817  |  0.1753178  | -0.5324814  | -0.02471844 | -0.1481659  | ⋯           | -0.8998495  | -1.6119115  | -0.91455023 | -0.7843640  |  0.1897041  | -0.45803135 | -0.88915098 | -0.4335191  | -1.29107549 | -0.89173240 | \n",
       "| B           |  0.3015589  | -1.41353126 |  0.2337944  |  0.1617181  | -1.1895712  | -0.6627373  | -0.6882771  | -0.57596668 | -0.3305526  | ⋯           | -0.0143154  | -1.6184195  | -0.08217273 | -0.1079870  | -0.8658121  | -0.51205569 | -0.65183440 | -0.4993923  | -0.66877751 | -0.90169847 | \n",
       "| B           | -0.7256686  | -0.05804381 | -0.7312666  | -0.6967299  | -0.7750414  | -0.5135309  | -0.4258580  | -0.89269604 |  0.8002448  | ⋯           | -0.6619139  |  0.2119626  | -0.61992966 | -0.6324382  | -0.3271047  | -0.38493959 | -0.07759635 | -0.7297203  |  0.21698688 | -0.06122589 | \n",
       "\n",
       "\n"
      ],
      "text/plain": [
       "  diagnosis radius_mean texture_mean perimeter_mean area_mean  smoothness_mean\n",
       "1 B         -0.5128453  -1.60418301  -0.5399006     -0.5421468  0.4578825     \n",
       "2 B         -1.0009202  -0.07896900  -0.9337442     -0.8766033  0.0369535     \n",
       "3 B         -0.8760638  -0.57187353  -0.8662517     -0.8004484  0.8062867     \n",
       "4 B         -0.8079604  -1.37168088  -0.7806514     -0.7674858  1.4248817     \n",
       "5 B          0.3015589  -1.41353126   0.2337944      0.1617181 -1.1895712     \n",
       "6 B         -0.7256686  -0.05804381  -0.7312666     -0.6967299 -0.7750414     \n",
       "  compactness_mean concavity_mean points_mean symmetry_mean ⋯ radius_worst\n",
       "1 -0.6538379       -0.6137661     -0.30717196  0.5376080    ⋯ -0.5729467  \n",
       "2  0.1961461       -0.3127117     -0.57983238  0.4026419    ⋯ -0.9081255  \n",
       "3 -0.4980044       -0.7318045     -0.62158190 -0.3560868    ⋯ -0.7984682  \n",
       "4  0.1753178       -0.5324814     -0.02471844 -0.1481659    ⋯ -0.8998495  \n",
       "5 -0.6627373       -0.6882771     -0.57596668 -0.3305526    ⋯ -0.0143154  \n",
       "6 -0.5135309       -0.4258580     -0.89269604  0.8002448    ⋯ -0.6619139  \n",
       "  texture_worst perimeter_worst area_worst smoothness_worst compactness_worst\n",
       "1 -1.6330626    -0.60385945     -0.5822061  0.2685394       -0.81141409      \n",
       "2 -0.4453479    -0.86247083     -0.8005226 -0.4847751       -0.01757408      \n",
       "3  0.1241043    -0.81336741     -0.7186759  0.1984636       -0.67412871      \n",
       "4 -1.6119115    -0.91455023     -0.7843640  0.1897041       -0.45803135      \n",
       "5 -1.6184195    -0.08217273     -0.1079870 -0.8658121       -0.51205569      \n",
       "6  0.2119626    -0.61992966     -0.6324382 -0.3271047       -0.38493959      \n",
       "  concavity_worst points_worst symmetry_worst dimension_worst\n",
       "1 -0.70935407     -0.3148560   -0.11921566    -0.89893012    \n",
       "2 -0.38628525     -0.5377296    0.06343283    -0.44713458    \n",
       "3 -0.79323693     -0.6130350    0.15718162    -0.28435531    \n",
       "4 -0.88915098     -0.4335191   -1.29107549    -0.89173240    \n",
       "5 -0.65183440     -0.4993923   -0.66877751    -0.90169847    \n",
       "6 -0.07759635     -0.7297203    0.21698688    -0.06122589    "
      ]
     },
     "metadata": {},
     "output_type": "display_data"
    }
   ],
   "source": [
    "data_z <- data\n",
    "data_z[,-1] = as.data.frame(lapply(data[,-1], zScore))\n",
    "head(data_z)"
   ]
  },
  {
   "cell_type": "code",
   "execution_count": 52,
   "metadata": {},
   "outputs": [
    {
     "data": {
      "text/html": [
       "0.98"
      ],
      "text/latex": [
       "0.98"
      ],
      "text/markdown": [
       "0.98"
      ],
      "text/plain": [
       "[1] 0.98"
      ]
     },
     "metadata": {},
     "output_type": "display_data"
    },
    {
     "data": {
      "text/html": [
       "6"
      ],
      "text/latex": [
       "6"
      ],
      "text/markdown": [
       "6"
      ],
      "text/plain": [
       "[1] 6"
      ]
     },
     "metadata": {},
     "output_type": "display_data"
    }
   ],
   "source": [
    "values = c()\n",
    "# sizes = c()\n",
    "ks = c()\n",
    "for(k in 3:27){\n",
    "    values = c(values, c(train_test_knn(data_z, 469, k)))\n",
    "    # sizes = c(sizes, size)\n",
    "    ks = c(ks, k)\n",
    "}\n",
    "max(values)\n",
    "# sizes[values == max(values)]\n",
    "ks[values == max(values)]"
   ]
  },
  {
   "cell_type": "code",
   "execution_count": 68,
   "metadata": {},
   "outputs": [
    {
     "data": {
      "text/html": [
       "0.98"
      ],
      "text/latex": [
       "0.98"
      ],
      "text/markdown": [
       "0.98"
      ],
      "text/plain": [
       "[1] 0.98"
      ]
     },
     "metadata": {},
     "output_type": "display_data"
    }
   ],
   "source": [
    "train_test_knn(data_z, 469, 6)"
   ]
  },
  {
   "cell_type": "markdown",
   "metadata": {},
   "source": [
    "## K-fold validation\n",
    "Divide data into k random subsets\n",
    "\n",
    "a single subset is retained as a testing set, rest is training data\n",
    "\n",
    "test is repeated k times, using each of k subsamples as testing data\n",
    "\n",
    "standard choice for k is equal 10"
   ]
  },
  {
   "cell_type": "code",
   "execution_count": 170,
   "metadata": {
    "scrolled": false
   },
   "outputs": [
    {
     "name": "stdout",
     "output_type": "stream",
     "text": [
      "[1] 0.9824561\n",
      "[1] 0.9298246\n",
      "[1] 1\n",
      "[1] 0.9473684\n",
      "[1] 0.9824561\n",
      "[1] 0.9464286\n",
      "[1] 0.9473684\n",
      "[1] 0.9649123\n",
      "[1] 0.9298246\n",
      "[1] 0.9649123\n"
     ]
    },
    {
     "data": {
      "text/html": [
       "0.959555137844612"
      ],
      "text/latex": [
       "0.959555137844612"
      ],
      "text/markdown": [
       "0.959555137844612"
      ],
      "text/plain": [
       "[1] 0.9595551"
      ]
     },
     "metadata": {},
     "output_type": "display_data"
    }
   ],
   "source": [
    "#\n",
    "# shuffle dataset\n",
    "#\n",
    "shuffled <- data_normalized[sample(nrow(data_normalized), replace=FALSE),]\n",
    "# head(shuffled)\n",
    "\n",
    "#\n",
    "# rename rows\n",
    "#\n",
    "row.names(shuffled) <- c(1:569)\n",
    "# print(row.names(shuffled))\n",
    "\n",
    "#\n",
    "# splitting dataset into k-subsets\n",
    "#\n",
    "k=10\n",
    "step=as.integer(round(nrow(shuffled)/k))\n",
    "\n",
    "# version 1 -> split\n",
    "split_shuffles <- split(shuffled, f=rep(1:k, length.out = nrow(shuffled), each = as.integer(round(nrow(shuffled)/k))))\n",
    "# print(class(split_shuffles))\n",
    "# print(nrow(split_shuffles[[1]]))\n",
    "\n",
    "# TODO\n",
    "\n",
    "# version 2 -> folds\n",
    "folds <- cut(c(1:nrow(shuffled)), k, labels=FALSE)\n",
    "\n",
    "res <- c()\n",
    "for(i in 1:k){\n",
    "    testing <- shuffled[which(folds==i,  arr.ind=TRUE),]\n",
    "    training <- shuffled[-which(folds==i,  arr.ind=TRUE),]\n",
    "    test_pred <- knn(training[,-1], testing[,-1], training[,1], k=21)\n",
    "    print(mean(test_pred == factor(testing[,1])))\n",
    "    res <- c(res, mean(test_pred == factor(testing[,1])))\n",
    "}\n",
    "\n",
    "\n",
    "mean(res)"
   ]
  },
  {
   "cell_type": "code",
   "execution_count": 171,
   "metadata": {},
   "outputs": [
    {
     "name": "stdout",
     "output_type": "stream",
     "text": [
      "3 \t 0.9639411 \n",
      "4 \t 0.9636487 \n",
      "5 \t 0.9639411 \n",
      "6 \t 0.9641165 \n",
      "7 \t 0.9651107 \n",
      "8 \t 0.9650689 \n",
      "9 \t 0.9654762 \n",
      "10 \t 0.9659879 \n",
      "11 \t 0.9669236 \n",
      "12 \t 0.9673701 \n",
      "13 \t 0.9678885 \n",
      "14 \t 0.9679222 \n",
      "15 \t 0.9679511 \n",
      "16 \t 0.9678592 \n",
      "17 \t 0.9676692 \n",
      "18 \t 0.9673983 \n",
      "19 \t 0.9672549 \n",
      "20 \t 0.9671267 \n",
      "21 \t 0.9667481 \n",
      "22 \t 0.9665727 \n",
      "23 \t 0.966174 \n",
      "24 \t 0.9659625 \n",
      "25 \t 0.9656955 \n",
      "26 \t 0.9654499 \n",
      "27 \t 0.9651557 \n"
     ]
    }
   ],
   "source": [
    "# for multiple k values\n",
    "for(knn in 3:27){\n",
    "    for(i in 1:k){\n",
    "        testing <- shuffled[which(folds==i,  arr.ind=TRUE),]\n",
    "        training <- shuffled[-which(folds==i,  arr.ind=TRUE),]\n",
    "        test_pred <- knn(training[,-1], testing[,-1], training[,1], k=knn)\n",
    "        #print(mean(test_pred == factor(testing[,1])))\n",
    "        res <- c(res, mean(test_pred == factor(testing[,1])))\n",
    "    }\n",
    "    cat(knn, \"\\t\", mean(res), \"\\n\")\n",
    "}"
   ]
  }
 ],
 "metadata": {
  "kernelspec": {
   "display_name": "R",
   "language": "R",
   "name": "ir"
  },
  "language_info": {
   "codemirror_mode": "r",
   "file_extension": ".r",
   "mimetype": "text/x-r-source",
   "name": "R",
   "pygments_lexer": "r",
   "version": "3.5.1"
  }
 },
 "nbformat": 4,
 "nbformat_minor": 2
}
