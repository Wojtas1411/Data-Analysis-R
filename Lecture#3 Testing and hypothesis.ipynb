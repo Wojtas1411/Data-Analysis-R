{
 "cells": [
  {
   "cell_type": "markdown",
   "metadata": {},
   "source": [
    "# Lecture 3 - Testing and hypothesis\n",
    "## Confidence intervals & measures of predictability"
   ]
  },
  {
   "cell_type": "markdown",
   "metadata": {},
   "source": [
    "## Hypothesis testing\n",
    "to accept or reject hypothesis about population of which we only have a sample\n",
    "\n",
    "$H_0$ null hypothesis (natural) we assume parameter of population\n",
    "\n",
    "$H_1$ alternative hypothesis - we assume that $H_0$ is incorrect (parameter is higher, lower, or not equal)\n"
   ]
  },
  {
   "cell_type": "code",
   "execution_count": 1,
   "metadata": {
    "ExecuteTime": {
     "end_time": "2019-01-16T19:22:10.647884Z",
     "start_time": "2019-01-16T19:22:10.569Z"
    }
   },
   "outputs": [
    {
     "data": {
      "text/html": [
       "0.55"
      ],
      "text/latex": [
       "0.55"
      ],
      "text/markdown": [
       "0.55"
      ],
      "text/plain": [
       "[1] 0.55"
      ]
     },
     "metadata": {},
     "output_type": "display_data"
    },
    {
     "data": {
      "text/html": [
       "0.497742652128334"
      ],
      "text/latex": [
       "0.497742652128334"
      ],
      "text/markdown": [
       "0.497742652128334"
      ],
      "text/plain": [
       "[1] 0.4977427"
      ]
     },
     "metadata": {},
     "output_type": "display_data"
    },
    {
     "data": {
      "text/html": [
       "-3.17661912902839"
      ],
      "text/latex": [
       "-3.17661912902839"
      ],
      "text/markdown": [
       "-3.17661912902839"
      ],
      "text/plain": [
       "[1] -3.176619"
      ]
     },
     "metadata": {},
     "output_type": "display_data"
    },
    {
     "data": {
      "text/html": [
       "1.64485362695147"
      ],
      "text/latex": [
       "1.64485362695147"
      ],
      "text/markdown": [
       "1.64485362695147"
      ],
      "text/plain": [
       "[1] 1.644854"
      ]
     },
     "metadata": {},
     "output_type": "display_data"
    },
    {
     "data": {
      "text/html": [
       "0.000745012894639091"
      ],
      "text/latex": [
       "0.000745012894639091"
      ],
      "text/markdown": [
       "0.000745012894639091"
      ],
      "text/plain": [
       "[1] 0.0007450129"
      ]
     },
     "metadata": {},
     "output_type": "display_data"
    }
   ],
   "source": [
    "zeros = rep(0,450)\n",
    "ones = rep(1, 550)\n",
    "vec <- sample(c(zeros,ones))\n",
    "mean(vec)\n",
    "sd(vec)\n",
    "z = (0.5 - mean(vec))/(sd(vec)/sqrt(length(vec))) #Z test\n",
    "z\n",
    "\n",
    "a = .05\n",
    "c = qnorm(1-a) #quantile of normla distibution\n",
    "c #critical value (or minus critical value)\n",
    "\n",
    "p = pnorm(z) #p-value\n",
    "p"
   ]
  },
  {
   "cell_type": "markdown",
   "metadata": {},
   "source": [
    "## Types of tests\n",
    "\n",
    "Two-sided test - not equal $\\alpha/2$\n",
    "\n",
    "Left-tailed test - less than\n",
    "\n",
    "Right-tailed test - greater than"
   ]
  },
  {
   "cell_type": "markdown",
   "metadata": {},
   "source": [
    "## Types of errors\n",
    "\n",
    "Type 1 error - rejecting a null hypothesis which was true - probability of commiting - significance level $\\alpha$\n",
    "\n",
    "Type 2 error - not choosing the alternative hypothesis which was true - probability of commiting unknown - probability of not commiting is power of the test\n",
    "(not rejecting false null hypothesis) "
   ]
  },
  {
   "cell_type": "code",
   "execution_count": 2,
   "metadata": {
    "ExecuteTime": {
     "end_time": "2019-01-16T19:22:10.703017Z",
     "start_time": "2019-01-16T19:22:10.574Z"
    }
   },
   "outputs": [
    {
     "data": {
      "text/plain": [
       "\n",
       "\tExact binomial test\n",
       "\n",
       "data:  35 and 100\n",
       "number of successes = 35, number of trials = 100, p-value = 0.003518\n",
       "alternative hypothesis: true probability of success is not equal to 0.5\n",
       "95 percent confidence interval:\n",
       " 0.2572938 0.4518494\n",
       "sample estimates:\n",
       "probability of success \n",
       "                  0.35 \n"
      ]
     },
     "metadata": {},
     "output_type": "display_data"
    }
   ],
   "source": [
    "binom.test(35,100, 0.5, alternative = \"two.sided\", conf.level = 0.95)"
   ]
  },
  {
   "cell_type": "code",
   "execution_count": 3,
   "metadata": {
    "ExecuteTime": {
     "end_time": "2019-01-16T19:22:10.721222Z",
     "start_time": "2019-01-16T19:22:10.576Z"
    }
   },
   "outputs": [
    {
     "data": {
      "text/plain": [
       "\n",
       "\tExact binomial test\n",
       "\n",
       "data:  40 and 100\n",
       "number of successes = 40, number of trials = 100, p-value = 0.05689\n",
       "alternative hypothesis: true probability of success is not equal to 0.5\n",
       "95 percent confidence interval:\n",
       " 0.3032948 0.5027908\n",
       "sample estimates:\n",
       "probability of success \n",
       "                   0.4 \n"
      ]
     },
     "metadata": {},
     "output_type": "display_data"
    }
   ],
   "source": [
    "binom.test(40,100, 0.5, alternative = \"two.sided\", conf.level = 0.95)"
   ]
  },
  {
   "cell_type": "code",
   "execution_count": 4,
   "metadata": {
    "ExecuteTime": {
     "end_time": "2019-01-16T19:22:10.739015Z",
     "start_time": "2019-01-16T19:22:10.578Z"
    }
   },
   "outputs": [
    {
     "data": {
      "text/plain": [
       "\n",
       "\tExact binomial test\n",
       "\n",
       "data:  37 and 100\n",
       "number of successes = 37, number of trials = 100, p-value = 0.01203\n",
       "alternative hypothesis: true probability of success is not equal to 0.5\n",
       "99 percent confidence interval:\n",
       " 0.2494871 0.5032412\n",
       "sample estimates:\n",
       "probability of success \n",
       "                  0.37 \n"
      ]
     },
     "metadata": {},
     "output_type": "display_data"
    }
   ],
   "source": [
    "binom.test(37,100, 0.5, alternative = \"two.sided\", conf.level = 0.99)"
   ]
  },
  {
   "cell_type": "code",
   "execution_count": 5,
   "metadata": {
    "ExecuteTime": {
     "end_time": "2019-01-16T19:22:10.765681Z",
     "start_time": "2019-01-16T19:22:10.581Z"
    }
   },
   "outputs": [
    {
     "data": {
      "text/plain": [
       "\n",
       "\tWelch Two Sample t-test\n",
       "\n",
       "data:  x and y\n",
       "t = -6.3243, df = 27.459, p-value = 8.383e-07\n",
       "alternative hypothesis: true difference in means is not equal to 0\n",
       "95 percent confidence interval:\n",
       " -13.497834  -6.888833\n",
       "sample estimates:\n",
       "mean of x mean of y \n",
       " 58.48667  68.68000 \n"
      ]
     },
     "metadata": {},
     "output_type": "display_data"
    }
   ],
   "source": [
    "samp_size = 15\n",
    "x <- round(rnorm(samp_size, mean = 59, sd = 5),1)\n",
    "y <- round(rnorm(samp_size, mean = 68, sd = 5),1)\n",
    "\n",
    "res <- t.test(x,y)\n",
    "res"
   ]
  },
  {
   "cell_type": "markdown",
   "metadata": {},
   "source": [
    "## Confidence intervals\n",
    "\n",
    "Quantify the uncertainty ther is about a summary statistics due to randomness of sampling. \n"
   ]
  },
  {
   "cell_type": "code",
   "execution_count": 6,
   "metadata": {
    "ExecuteTime": {
     "end_time": "2019-01-16T19:22:10.783787Z",
     "start_time": "2019-01-16T19:22:10.583Z"
    }
   },
   "outputs": [
    {
     "data": {
      "text/plain": [
       "\n",
       "\tExact binomial test\n",
       "\n",
       "data:  682 and 682 + 244\n",
       "number of successes = 682, number of trials = 926, p-value = 0.3429\n",
       "alternative hypothesis: true probability of success is not equal to 0.75\n",
       "95 percent confidence interval:\n",
       " 0.7068638 0.7646254\n",
       "sample estimates:\n",
       "probability of success \n",
       "             0.7365011 \n"
      ]
     },
     "metadata": {},
     "output_type": "display_data"
    }
   ],
   "source": [
    "binom.test(682, 682+244, 0.75, alternative = \"two.sided\", conf.level=0.95)"
   ]
  },
  {
   "cell_type": "code",
   "execution_count": 7,
   "metadata": {
    "ExecuteTime": {
     "end_time": "2019-01-16T19:22:10.802384Z",
     "start_time": "2019-01-16T19:22:10.587Z"
    }
   },
   "outputs": [
    {
     "data": {
      "text/plain": [
       "\n",
       "\tExact binomial test\n",
       "\n",
       "data:  682/2 and (682 + 244)/2\n",
       "number of successes = 341, number of trials = 463, p-value = 0.5195\n",
       "alternative hypothesis: true probability of success is not equal to 0.75\n",
       "95 percent confidence interval:\n",
       " 0.6938642 0.7760868\n",
       "sample estimates:\n",
       "probability of success \n",
       "             0.7365011 \n"
      ]
     },
     "metadata": {},
     "output_type": "display_data"
    }
   ],
   "source": [
    "binom.test(682/2, (682+244)/2, 0.75, alternative = \"two.sided\", conf.level=0.95)"
   ]
  },
  {
   "cell_type": "code",
   "execution_count": 8,
   "metadata": {
    "ExecuteTime": {
     "end_time": "2019-01-16T19:22:10.829859Z",
     "start_time": "2019-01-16T19:22:10.589Z"
    }
   },
   "outputs": [
    {
     "data": {
      "text/plain": [
       "\n",
       "\tExact binomial test\n",
       "\n",
       "data:  successes and samp_size\n",
       "number of successes = 3650, number of trials = 5000, p-value = 0.001221\n",
       "alternative hypothesis: true probability of success is not equal to 0.75\n",
       "95 percent confidence interval:\n",
       " 0.7174624 0.7422686\n",
       "sample estimates:\n",
       "probability of success \n",
       "                  0.73 \n"
      ]
     },
     "metadata": {},
     "output_type": "display_data"
    }
   ],
   "source": [
    "# reject hypothesis depending on sample size\n",
    "samp_size = 5000\n",
    "successes = 0.73 * samp_size\n",
    "binom.test(successes, samp_size, 0.75, alternative = \"two.sided\", conf.level=0.95)"
   ]
  },
  {
   "cell_type": "markdown",
   "metadata": {},
   "source": [
    "## Computing Confidence intervals\n",
    "\n"
   ]
  },
  {
   "cell_type": "code",
   "execution_count": 9,
   "metadata": {
    "ExecuteTime": {
     "end_time": "2019-01-16T19:22:10.846824Z",
     "start_time": "2019-01-16T19:22:10.592Z"
    }
   },
   "outputs": [],
   "source": [
    "ci <- function(data, alpha){\n",
    "    gamma = 1-alpha\n",
    "    ni = qnorm((1+gamma)/2)\n",
    "    # print(ni)\n",
    "    x = ni*sd(data)/sqrt(length(data))\n",
    "    # cat(x)\n",
    "    return(c(mean(data)-x, mean(data), mean(data)+x))\n",
    "}"
   ]
  },
  {
   "cell_type": "code",
   "execution_count": 10,
   "metadata": {
    "ExecuteTime": {
     "end_time": "2019-01-16T19:22:10.873932Z",
     "start_time": "2019-01-16T19:22:10.594Z"
    }
   },
   "outputs": [
    {
     "data": {
      "text/html": [
       "<ol class=list-inline>\n",
       "\t<li>-0.447835882507846</li>\n",
       "\t<li>-0.0916666666666667</li>\n",
       "\t<li>0.264502549174513</li>\n",
       "</ol>\n"
      ],
      "text/latex": [
       "\\begin{enumerate*}\n",
       "\\item -0.447835882507846\n",
       "\\item -0.0916666666666667\n",
       "\\item 0.264502549174513\n",
       "\\end{enumerate*}\n"
      ],
      "text/markdown": [
       "1. -0.447835882507846\n",
       "2. -0.0916666666666667\n",
       "3. 0.264502549174513\n",
       "\n",
       "\n"
      ],
      "text/plain": [
       "[1] -0.44783588 -0.09166667  0.26450255"
      ]
     },
     "metadata": {},
     "output_type": "display_data"
    },
    {
     "data": {
      "text/plain": [
       "\n",
       "\tOne Sample t-test\n",
       "\n",
       "data:  dataset\n",
       "t = -0.42333, df = 11, p-value = 0.6802\n",
       "alternative hypothesis: true mean is not equal to 0\n",
       "90 percent confidence interval:\n",
       " -0.4805395  0.2972062\n",
       "sample estimates:\n",
       "  mean of x \n",
       "-0.09166667 \n"
      ]
     },
     "metadata": {},
     "output_type": "display_data"
    }
   ],
   "source": [
    "dataset <- c(1, -1.1, 1.4, 0.2, -0.5, -0.9, -0.8, 0.4, -0.3, -0.3, -0.2, 0)\n",
    "ci(dataset, 0.1)\n",
    "t.test(dataset, conf.level = 0.9)\n",
    "# CI(dataset, ci=0.9) # Rmisc install"
   ]
  },
  {
   "cell_type": "markdown",
   "metadata": {},
   "source": [
    "## Predictability of dataset\n",
    "\n",
    "Kologomorov complexity - shortest computer program to generate this object (how much we can compress it)"
   ]
  }
 ],
 "metadata": {
  "kernelspec": {
   "display_name": "R",
   "language": "R",
   "name": "ir"
  },
  "language_info": {
   "codemirror_mode": "r",
   "file_extension": ".r",
   "mimetype": "text/x-r-source",
   "name": "R",
   "pygments_lexer": "r",
   "version": "3.5.1"
  }
 },
 "nbformat": 4,
 "nbformat_minor": 2
}
